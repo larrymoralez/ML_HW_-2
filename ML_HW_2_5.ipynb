{
  "nbformat": 4,
  "nbformat_minor": 0,
  "metadata": {
    "colab": {
      "name": "ML HW #2.5.ipynb",
      "version": "0.3.2",
      "provenance": [],
      "include_colab_link": true
    },
    "kernelspec": {
      "name": "python3",
      "display_name": "Python 3"
    }
  },
  "cells": [
    {
      "cell_type": "markdown",
      "metadata": {
        "id": "view-in-github",
        "colab_type": "text"
      },
      "source": [
        "<a href=\"https://colab.research.google.com/github/larrymoralez/ML_HW_-2/blob/master/ML_HW_2_5.ipynb\" target=\"_parent\"><img src=\"https://colab.research.google.com/assets/colab-badge.svg\" alt=\"Open In Colab\"/></a>"
      ]
    },
    {
      "metadata": {
        "id": "QTpMqAbtnWtU",
        "colab_type": "code",
        "colab": {}
      },
      "cell_type": "code",
      "source": [
        "#Import libraries\n",
        "import numpy as np\n",
        "from matplotlib import pyplot\n",
        "import keras\n",
        "from keras.datasets import cifar10\n",
        "from keras.preprocessing.image import ImageDataGenerator\n",
        "from keras.models import Sequential\n",
        "from keras.layers import Dense, Dropout, Activation, Flatten\n",
        "from keras.layers import Conv2D, MaxPooling2D\n",
        "from sklearn.model_selection import train_test_split\n",
        "import matplotlib.pyplot as plt\n",
        "from sklearn.model_selection import train_test_split, KFold\n",
        "from sklearn.preprocessing import LabelEncoder\n",
        "\n",
        "(x_train, y_train), (x_test, y_test) = cifar10.load_data()"
      ],
      "execution_count": 0,
      "outputs": []
    },
    {
      "metadata": {
        "id": "Pikj_mawnbWQ",
        "colab_type": "code",
        "colab": {}
      },
      "cell_type": "code",
      "source": [
        "#split data into training and test data. Be careful to only run once or it will split data over and over again.\n",
        "#x_train, x_val, y_train, y_val = train_test_split(x_train, y_train, test_size=0.9, random_state=42)"
      ],
      "execution_count": 0,
      "outputs": []
    },
    {
      "metadata": {
        "id": "WWemBkEzndEG",
        "colab_type": "code",
        "colab": {}
      },
      "cell_type": "code",
      "source": [
        "#Set initial params\n",
        "batch_size = 1\n",
        "num_classes = 10\n",
        "epochs = 2"
      ],
      "execution_count": 0,
      "outputs": []
    },
    {
      "metadata": {
        "id": "JeFhiaO6nfcE",
        "colab_type": "code",
        "colab": {}
      },
      "cell_type": "code",
      "source": [
        "#Convert labels to categroical\n",
        "y_train = keras.utils.to_categorical(y_train, num_classes)\n",
        "y_val = keras.utils.to_categorical(y_val, num_classes)\n",
        "y_test = keras.utils.to_categorical(y_test, num_classes)"
      ],
      "execution_count": 0,
      "outputs": []
    },
    {
      "metadata": {
        "id": "PAgLG-xynhzx",
        "colab_type": "code",
        "colab": {}
      },
      "cell_type": "code",
      "source": [
        "#Implement Data Augmentation\n",
        "Data_Gen = ImageDataGenerator(\n",
        "  featurewise_center = False,\n",
        "  samplewise_center = False,\n",
        "  featurewise_std_normalization = False,\n",
        "  samplewise_std_normalization = False,\n",
        "  rotation_range = 90,\n",
        "  horizontal_flip = True,\n",
        "  vertical_flip = True)\n",
        "\n",
        "Data_Gen.fit(x_train)"
      ],
      "execution_count": 0,
      "outputs": []
    },
    {
      "metadata": {
        "id": "RUJ6GdXUqqx8",
        "colab_type": "code",
        "colab": {}
      },
      "cell_type": "code",
      "source": [
        "#Fit the model using KFold Cross Validation\n",
        "kfold = KFold(n_splits=5, shuffle=True, random_state=42)\n",
        "cross_val_scores = []\n",
        "\n",
        "for train, test in kfold.split(x_train, y_train):\n",
        "  model = Sequential()\n",
        "  model.add(Conv2D(32, (3, 3), padding='same', input_shape=x_train.shape[1:]))\n",
        "  model.add(Activation('relu'))\n",
        "  model.add(Conv2D(32, (3, 3)))\n",
        "  model.add(Activation('relu'))\n",
        "  model.add(MaxPooling2D(pool_size=(2, 2)))\n",
        "  model.add(Dropout(0.25))\n",
        "\n",
        "  model.add(Conv2D(64, (3, 3), padding='same'))\n",
        "  model.add(Activation('relu'))\n",
        "  model.add(Conv2D(64, (3, 3)))\n",
        "  model.add(Activation('relu'))\n",
        "  model.add(MaxPooling2D(pool_size=(2, 2)))\n",
        "  model.add(Dropout(0.25))\n",
        "  \n",
        "  model.add(Flatten())\n",
        "  model.add(Dense(512))\n",
        "  model.add(Activation('relu'))\n",
        "  model.add(Dropout(0.5))\n",
        "  model.add(Dense(num_classes))\n",
        "  model.add(Activation('softmax'))\n",
        "  \n",
        "  #Compile model\n",
        "  RMS = keras.optimizers.rmsprop(lr=0.0001, decay=1e-6)\n",
        "  model.compile(loss='categorical_crossentropy',\n",
        "              optimizer=RMS,\n",
        "              metrics=['accuracy'])\n",
        "  #Fit model\n",
        "  model.fit_generator(Data_Gen.flow(x_train[train], y_train[train], batch_size = batch_size),\n",
        "                              steps_per_epoch = len(x_train) / 32,\n",
        "                              epochs = epochs,\n",
        "                              callbacks=[history],\n",
        "                              validation_data=(x_val, y_val), \n",
        "                              shuffle = True)\n",
        "  \n",
        "  scores = model.evaluate(x_train[test], y_train[test], verbose = 1)\n",
        "  \n",
        "  cross_val_scores.append(scores[1] * 100)\n",
        "  #print(\"%.2f%% (+/- %.2f%%)\" % (scores[1] * 100))\n",
        "  \n",
        "print(\"%.2f%% (+/- %.2f%%)\" % (np.means(cross_val_scores)))"
      ],
      "execution_count": 0,
      "outputs": []
    },
    {
      "metadata": {
        "id": "yEOhtiRKqLxy",
        "colab_type": "code",
        "colab": {}
      },
      "cell_type": "code",
      "source": [
        "# #Define model\n",
        "# model = Sequential()\n",
        "# model.add(Conv2D(32, (3, 3), padding='same', input_shape=x_train.shape[1:]))\n",
        "# model.add(Activation('relu'))\n",
        "# model.add(Conv2D(32, (3, 3)))\n",
        "# model.add(Activation('relu'))\n",
        "# model.add(MaxPooling2D(pool_size=(2, 2)))\n",
        "# model.add(Dropout(0.25))\n",
        "\n",
        "# model.add(Conv2D(64, (3, 3), padding='same'))\n",
        "# model.add(Activation('relu'))\n",
        "# model.add(Conv2D(64, (3, 3)))\n",
        "# model.add(Activation('relu'))\n",
        "# model.add(MaxPooling2D(pool_size=(2, 2)))\n",
        "# model.add(Dropout(0.25))\n",
        "\n",
        "# model.add(Flatten())\n",
        "# model.add(Dense(512))\n",
        "# model.add(Activation('relu'))\n",
        "# model.add(Dropout(0.5))\n",
        "# model.add(Dense(num_classes))\n",
        "# model.add(Activation('softmax'))\n",
        "\n",
        "# model.summary()"
      ],
      "execution_count": 0,
      "outputs": []
    },
    {
      "metadata": {
        "id": "EN1F5lVO8Hjh",
        "colab_type": "code",
        "colab": {}
      },
      "cell_type": "code",
      "source": [
        ""
      ],
      "execution_count": 0,
      "outputs": []
    },
    {
      "metadata": {
        "id": "3IkFhzJqo6H4",
        "colab_type": "code",
        "colab": {}
      },
      "cell_type": "code",
      "source": [
        "# def kfold_model():\n",
        "#   model = Sequential()\n",
        "#   model.add(Conv2D(32, (3, 3), padding='same', input_shape=x_train.shape[1:]))\n",
        "#   model.add(Activation('relu'))\n",
        "#   model.add(Conv2D(32, (3, 3)))\n",
        "#   model.add(Activation('relu'))\n",
        "#   model.add(MaxPooling2D(pool_size=(2, 2)))\n",
        "#   model.add(Dropout(0.25))\n",
        "\n",
        "#   model.add(Conv2D(64, (3, 3), padding='same'))\n",
        "#   model.add(Activation('relu'))\n",
        "#   model.add(Conv2D(64, (3, 3)))\n",
        "#   model.add(Activation('relu'))\n",
        "#   model.add(MaxPooling2D(pool_size=(2, 2)))\n",
        "#   model.add(Dropout(0.25))\n",
        "\n",
        "#   model.add(Flatten())\n",
        "#   model.add(Dense(512))\n",
        "#   model.add(Activation('relu'))\n",
        "#   model.add(Dropout(0.5))\n",
        "#   model.add(Dense(num_classes))\n",
        "#   model.add(Activation('softmax'))\n",
        "\n",
        "#   RMS = keras.optimizers.rmsprop(lr=0.0001, decay=1e-6)\n",
        "#   model.compile(loss='categorical_crossentropy',\n",
        "#               optimizer=RMS,\n",
        "#               metrics=['accuracy'])\n",
        "#   return(model)\n",
        "  "
      ],
      "execution_count": 0,
      "outputs": []
    },
    {
      "metadata": {
        "id": "1IkE8DPYnng5",
        "colab_type": "code",
        "colab": {}
      },
      "cell_type": "code",
      "source": [
        "# #Compile model\n",
        "# history = model.compile(loss='categorical_crossentropy',\n",
        "#               optimizer=RMS,\n",
        "#               metrics=['accuracy'])"
      ],
      "execution_count": 0,
      "outputs": []
    },
    {
      "metadata": {
        "id": "OMXvGl5enqEq",
        "colab_type": "code",
        "colab": {}
      },
      "cell_type": "code",
      "source": [
        "# history = model.fit_generator(Data_Gen.flow(x_train, y_train, batch_size = batch_size),\n",
        "#                               steps_per_epoch = len(x_train) / 32,\n",
        "#                               epochs = epochs, \n",
        "#                               validation_data=(x_val, y_val), \n",
        "#                               shuffle = True)"
      ],
      "execution_count": 0,
      "outputs": []
    },
    {
      "metadata": {
        "id": "VJ7UqyYZntDg",
        "colab_type": "code",
        "colab": {}
      },
      "cell_type": "code",
      "source": [
        "# history_dict = history.history\n",
        "# loss = history_dict['loss']\n",
        "# val_loss = history_dict['val_loss']\n",
        "# epochs_range = range(1, epochs+1)\n",
        "\n",
        "# plt.plot(epochs_range, loss, 'bo', label='Training loss')\n",
        "# plt.plot(epochs_range, val_loss, 'ro', label='Validation loss')\n",
        "# plt.title('Training and Validation Loss')\n",
        "# plt.xlabel('Epochs')\n",
        "# plt.ylabel('Loss')\n",
        "# plt.legend()\n",
        "# plt.show()"
      ],
      "execution_count": 0,
      "outputs": []
    },
    {
      "metadata": {
        "id": "v9N7pImpnyCd",
        "colab_type": "code",
        "colab": {}
      },
      "cell_type": "code",
      "source": [
        "# acc = history_dict['acc']\n",
        "# val_acc = history_dict['val_acc']\n",
        "\n",
        "# plt.plot(epochs_range, acc, 'bo', label='Training Accuracy')\n",
        "# plt.plot(epochs_range, val_acc, 'ro', label='Validation Accuracy')\n",
        "# plt.title('Training and Validation Loss')\n",
        "# plt.xlabel('Epochs')\n",
        "# plt.ylabel('Loss')\n",
        "# plt.legend()\n",
        "# plt.show()"
      ],
      "execution_count": 0,
      "outputs": []
    },
    {
      "metadata": {
        "id": "P6ZDlLISn19J",
        "colab_type": "code",
        "colab": {}
      },
      "cell_type": "code",
      "source": [
        "# test_score = model.evaluate(x_test, y_test, verbose=1)\n",
        "# print('Loss:', test_score[0])\n",
        "# print('Accuracy:', test_score[1])"
      ],
      "execution_count": 0,
      "outputs": []
    }
  ]
}