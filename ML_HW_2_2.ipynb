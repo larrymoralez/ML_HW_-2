{
  "nbformat": 4,
  "nbformat_minor": 0,
  "metadata": {
    "colab": {
      "name": "ML HW #2.2.ipynb",
      "version": "0.3.2",
      "provenance": [],
      "include_colab_link": true
    },
    "kernelspec": {
      "name": "python3",
      "display_name": "Python 3"
    }
  },
  "cells": [
    {
      "cell_type": "markdown",
      "metadata": {
        "id": "view-in-github",
        "colab_type": "text"
      },
      "source": [
        "<a href=\"https://colab.research.google.com/github/larrymoralez/ML_HW_-2/blob/master/ML_HW_2_2.ipynb\" target=\"_parent\"><img src=\"https://colab.research.google.com/assets/colab-badge.svg\" alt=\"Open In Colab\"/></a>"
      ]
    },
    {
      "metadata": {
        "id": "j5s3kofwiVGq",
        "colab_type": "code",
        "colab": {}
      },
      "cell_type": "code",
      "source": [
        "#Import libraries\n",
        "import numpy as np\n",
        "from matplotlib import pyplot\n",
        "import keras\n",
        "from keras.datasets import cifar10\n",
        "from keras.preprocessing.image import ImageDataGenerator\n",
        "from keras.models import Sequential\n",
        "from keras.layers import Dense, Dropout, Activation, Flatten\n",
        "from keras.layers import Conv2D, MaxPooling2D\n",
        "from sklearn.model_selection import train_test_split\n",
        "import matplotlib.pyplot as plt\n",
        "\n",
        "(x_train, y_train), (x_test, y_test) = cifar10.load_data()\n"
      ],
      "execution_count": 0,
      "outputs": []
    },
    {
      "metadata": {
        "id": "ZckBDhd5nDXq",
        "colab_type": "code",
        "colab": {}
      },
      "cell_type": "code",
      "source": [
        "#split data into training and test data. Be careful to only run once or it will split data over and over again.\n",
        "x_train, x_val, y_train, y_val = train_test_split(x_train, y_train, test_size=0.2, random_state=42)\n"
      ],
      "execution_count": 0,
      "outputs": []
    },
    {
      "metadata": {
        "id": "8G165mXjjrtf",
        "colab_type": "code",
        "colab": {}
      },
      "cell_type": "code",
      "source": [
        "#Set initial params\n",
        "batch_size = 32\n",
        "num_classes = 10\n",
        "epochs = 50\n",
        "RMS = keras.optimizers.rmsprop(lr=0.00001, decay=1e-6)"
      ],
      "execution_count": 0,
      "outputs": []
    },
    {
      "metadata": {
        "id": "fcdPQPlarB1c",
        "colab_type": "code",
        "colab": {}
      },
      "cell_type": "code",
      "source": [
        "#Convert labels to categroical\n",
        "y_train = keras.utils.to_categorical(y_train, num_classes)\n",
        "y_val = keras.utils.to_categorical(y_val, num_classes)\n",
        "y_test = keras.utils.to_categorical(y_test, num_classes)"
      ],
      "execution_count": 0,
      "outputs": []
    },
    {
      "metadata": {
        "id": "NoQZ1qGLrG5S",
        "colab_type": "code",
        "outputId": "fc84e4a7-8250-45d5-b0a2-75be74fdefc0",
        "colab": {
          "base_uri": "https://localhost:8080/",
          "height": 646
        }
      },
      "cell_type": "code",
      "source": [
        "#Define model\n",
        "model = Sequential()\n",
        "model.add(Conv2D(32, (3, 3), padding='same', input_shape=x_train.shape[1:]))\n",
        "model.add(Activation('relu'))\n",
        "model.add(Conv2D(32, (3, 3)))\n",
        "model.add(Activation('relu'))\n",
        "model.add(MaxPooling2D(pool_size=(2, 2)))\n",
        "\n",
        "model.add(Conv2D(64, (3, 3), padding='same'))\n",
        "model.add(Activation('relu'))\n",
        "model.add(Conv2D(64, (3, 3)))\n",
        "model.add(Activation('relu'))\n",
        "model.add(MaxPooling2D(pool_size=(2, 2)))\n",
        "\n",
        "model.add(Flatten())\n",
        "model.add(Dense(512))\n",
        "model.add(Activation('relu'))\n",
        "model.add(Dense(num_classes))\n",
        "model.add(Activation('softmax'))\n",
        "\n",
        "model.summary()"
      ],
      "execution_count": 16,
      "outputs": [
        {
          "output_type": "stream",
          "text": [
            "_________________________________________________________________\n",
            "Layer (type)                 Output Shape              Param #   \n",
            "=================================================================\n",
            "conv2d_5 (Conv2D)            (None, 32, 32, 32)        896       \n",
            "_________________________________________________________________\n",
            "activation_7 (Activation)    (None, 32, 32, 32)        0         \n",
            "_________________________________________________________________\n",
            "conv2d_6 (Conv2D)            (None, 30, 30, 32)        9248      \n",
            "_________________________________________________________________\n",
            "activation_8 (Activation)    (None, 30, 30, 32)        0         \n",
            "_________________________________________________________________\n",
            "max_pooling2d_3 (MaxPooling2 (None, 15, 15, 32)        0         \n",
            "_________________________________________________________________\n",
            "conv2d_7 (Conv2D)            (None, 15, 15, 64)        18496     \n",
            "_________________________________________________________________\n",
            "activation_9 (Activation)    (None, 15, 15, 64)        0         \n",
            "_________________________________________________________________\n",
            "conv2d_8 (Conv2D)            (None, 13, 13, 64)        36928     \n",
            "_________________________________________________________________\n",
            "activation_10 (Activation)   (None, 13, 13, 64)        0         \n",
            "_________________________________________________________________\n",
            "max_pooling2d_4 (MaxPooling2 (None, 6, 6, 64)          0         \n",
            "_________________________________________________________________\n",
            "flatten_2 (Flatten)          (None, 2304)              0         \n",
            "_________________________________________________________________\n",
            "dense_3 (Dense)              (None, 512)               1180160   \n",
            "_________________________________________________________________\n",
            "activation_11 (Activation)   (None, 512)               0         \n",
            "_________________________________________________________________\n",
            "dense_4 (Dense)              (None, 10)                5130      \n",
            "_________________________________________________________________\n",
            "activation_12 (Activation)   (None, 10)                0         \n",
            "=================================================================\n",
            "Total params: 1,250,858\n",
            "Trainable params: 1,250,858\n",
            "Non-trainable params: 0\n",
            "_________________________________________________________________\n"
          ],
          "name": "stdout"
        }
      ]
    },
    {
      "metadata": {
        "id": "Zb4LxWnjrxWm",
        "colab_type": "code",
        "colab": {}
      },
      "cell_type": "code",
      "source": [
        "#Compile model\n",
        "model.compile(loss='categorical_crossentropy',\n",
        "              optimizer=RMS,\n",
        "              metrics=['accuracy'])"
      ],
      "execution_count": 0,
      "outputs": []
    },
    {
      "metadata": {
        "id": "BMlqKblIjYs8",
        "colab_type": "code",
        "colab": {
          "base_uri": "https://localhost:8080/",
          "height": 1652
        },
        "outputId": "3cfbf8e2-222a-4c38-f5de-b04d8cf4fa7a"
      },
      "cell_type": "code",
      "source": [
        "history = model.fit(x_train, y_train, batch_size = batch_size, epochs = epochs, validation_data=(x_val, y_val), shuffle = True)"
      ],
      "execution_count": 18,
      "outputs": [
        {
          "output_type": "stream",
          "text": [
            "Train on 40000 samples, validate on 10000 samples\n",
            "Epoch 1/50\n",
            "40000/40000 [==============================] - 710s 18ms/step - loss: 3.2060 - acc: 0.2493 - val_loss: 2.2142 - val_acc: 0.3317\n",
            "Epoch 2/50\n",
            "40000/40000 [==============================] - 718s 18ms/step - loss: 1.9706 - acc: 0.3564 - val_loss: 1.8318 - val_acc: 0.3952\n",
            "Epoch 3/50\n",
            "40000/40000 [==============================] - 731s 18ms/step - loss: 1.6922 - acc: 0.4218 - val_loss: 1.6378 - val_acc: 0.4449\n",
            "Epoch 4/50\n",
            "40000/40000 [==============================] - 725s 18ms/step - loss: 1.5315 - acc: 0.4722 - val_loss: 1.5423 - val_acc: 0.4705\n",
            "Epoch 5/50\n",
            "40000/40000 [==============================] - 711s 18ms/step - loss: 1.4227 - acc: 0.5067 - val_loss: 1.4556 - val_acc: 0.4988\n",
            "Epoch 6/50\n",
            "40000/40000 [==============================] - 715s 18ms/step - loss: 1.3424 - acc: 0.5340 - val_loss: 1.4029 - val_acc: 0.5192\n",
            "Epoch 7/50\n",
            "40000/40000 [==============================] - 715s 18ms/step - loss: 1.2769 - acc: 0.5562 - val_loss: 1.3907 - val_acc: 0.5201\n",
            "Epoch 8/50\n",
            "40000/40000 [==============================] - 709s 18ms/step - loss: 1.2194 - acc: 0.5774 - val_loss: 1.3359 - val_acc: 0.5464\n",
            "Epoch 9/50\n",
            "40000/40000 [==============================] - 706s 18ms/step - loss: 1.1745 - acc: 0.5941 - val_loss: 1.3102 - val_acc: 0.5535\n",
            "Epoch 10/50\n",
            "40000/40000 [==============================] - 707s 18ms/step - loss: 1.1314 - acc: 0.6108 - val_loss: 1.2708 - val_acc: 0.5658\n",
            "Epoch 11/50\n",
            "40000/40000 [==============================] - 725s 18ms/step - loss: 1.0942 - acc: 0.6236 - val_loss: 1.2561 - val_acc: 0.5713\n",
            "Epoch 12/50\n",
            "40000/40000 [==============================] - 712s 18ms/step - loss: 1.0598 - acc: 0.6364 - val_loss: 1.2548 - val_acc: 0.5733\n",
            "Epoch 13/50\n",
            "40000/40000 [==============================] - 715s 18ms/step - loss: 1.0294 - acc: 0.6477 - val_loss: 1.2061 - val_acc: 0.5897\n",
            "Epoch 14/50\n",
            "40000/40000 [==============================] - 711s 18ms/step - loss: 1.0004 - acc: 0.6581 - val_loss: 1.2149 - val_acc: 0.5906\n",
            "Epoch 15/50\n",
            "40000/40000 [==============================] - 713s 18ms/step - loss: 0.9704 - acc: 0.6669 - val_loss: 1.2013 - val_acc: 0.5928\n",
            "Epoch 16/50\n",
            "40000/40000 [==============================] - 713s 18ms/step - loss: 0.9454 - acc: 0.6783 - val_loss: 1.1933 - val_acc: 0.6034\n",
            "Epoch 17/50\n",
            "40000/40000 [==============================] - 713s 18ms/step - loss: 0.9212 - acc: 0.6868 - val_loss: 1.2075 - val_acc: 0.5979\n",
            "Epoch 18/50\n",
            "40000/40000 [==============================] - 711s 18ms/step - loss: 0.8969 - acc: 0.6970 - val_loss: 1.1796 - val_acc: 0.6051\n",
            "Epoch 19/50\n",
            "40000/40000 [==============================] - 707s 18ms/step - loss: 0.8739 - acc: 0.7027 - val_loss: 1.1839 - val_acc: 0.6081\n",
            "Epoch 20/50\n",
            "40000/40000 [==============================] - 709s 18ms/step - loss: 0.8533 - acc: 0.7117 - val_loss: 1.1696 - val_acc: 0.6111\n",
            "Epoch 21/50\n",
            "40000/40000 [==============================] - 713s 18ms/step - loss: 0.8317 - acc: 0.7152 - val_loss: 1.1635 - val_acc: 0.6150\n",
            "Epoch 22/50\n",
            "40000/40000 [==============================] - 717s 18ms/step - loss: 0.8122 - acc: 0.7242 - val_loss: 1.1559 - val_acc: 0.6176\n",
            "Epoch 23/50\n",
            "40000/40000 [==============================] - 712s 18ms/step - loss: 0.7933 - acc: 0.7321 - val_loss: 1.1677 - val_acc: 0.6149\n",
            "Epoch 24/50\n",
            "40000/40000 [==============================] - 710s 18ms/step - loss: 0.7735 - acc: 0.7387 - val_loss: 1.1602 - val_acc: 0.6167\n",
            "Epoch 25/50\n",
            "40000/40000 [==============================] - 706s 18ms/step - loss: 0.7548 - acc: 0.7468 - val_loss: 1.1444 - val_acc: 0.6274\n",
            "Epoch 26/50\n",
            "40000/40000 [==============================] - 708s 18ms/step - loss: 0.7367 - acc: 0.7543 - val_loss: 1.1433 - val_acc: 0.6260\n",
            "Epoch 27/50\n",
            "40000/40000 [==============================] - 700s 18ms/step - loss: 0.7196 - acc: 0.7595 - val_loss: 1.1676 - val_acc: 0.6198\n",
            "Epoch 28/50\n",
            "40000/40000 [==============================] - 460s 11ms/step - loss: 0.7028 - acc: 0.7649 - val_loss: 1.1329 - val_acc: 0.6310\n",
            "Epoch 29/50\n",
            "40000/40000 [==============================] - 464s 12ms/step - loss: 0.6853 - acc: 0.7712 - val_loss: 1.1589 - val_acc: 0.6288\n",
            "Epoch 30/50\n",
            "40000/40000 [==============================] - 465s 12ms/step - loss: 0.6683 - acc: 0.7772 - val_loss: 1.1637 - val_acc: 0.6273\n",
            "Epoch 31/50\n",
            "40000/40000 [==============================] - 469s 12ms/step - loss: 0.6528 - acc: 0.7843 - val_loss: 1.1782 - val_acc: 0.6249\n",
            "Epoch 32/50\n",
            "40000/40000 [==============================] - 467s 12ms/step - loss: 0.6367 - acc: 0.7885 - val_loss: 1.1580 - val_acc: 0.6358\n",
            "Epoch 33/50\n",
            "40000/40000 [==============================] - 470s 12ms/step - loss: 0.6219 - acc: 0.7951 - val_loss: 1.1523 - val_acc: 0.6359\n",
            "Epoch 34/50\n",
            "40000/40000 [==============================] - 467s 12ms/step - loss: 0.6082 - acc: 0.7996 - val_loss: 1.1462 - val_acc: 0.6396\n",
            "Epoch 35/50\n",
            "40000/40000 [==============================] - 463s 12ms/step - loss: 0.5936 - acc: 0.8034 - val_loss: 1.1465 - val_acc: 0.6375\n",
            "Epoch 36/50\n",
            "40000/40000 [==============================] - 464s 12ms/step - loss: 0.5786 - acc: 0.8102 - val_loss: 1.1607 - val_acc: 0.6397\n",
            "Epoch 37/50\n",
            "40000/40000 [==============================] - 464s 12ms/step - loss: 0.5654 - acc: 0.8165 - val_loss: 1.1742 - val_acc: 0.6365\n",
            "Epoch 38/50\n",
            "40000/40000 [==============================] - 465s 12ms/step - loss: 0.5492 - acc: 0.8218 - val_loss: 1.1999 - val_acc: 0.6303\n",
            "Epoch 39/50\n",
            "40000/40000 [==============================] - 463s 12ms/step - loss: 0.5372 - acc: 0.8263 - val_loss: 1.1663 - val_acc: 0.6434\n",
            "Epoch 40/50\n",
            "40000/40000 [==============================] - 458s 11ms/step - loss: 0.5240 - acc: 0.8298 - val_loss: 1.1561 - val_acc: 0.6397\n",
            "Epoch 41/50\n",
            "40000/40000 [==============================] - 461s 12ms/step - loss: 0.5114 - acc: 0.8358 - val_loss: 1.1806 - val_acc: 0.6383\n",
            "Epoch 42/50\n",
            "40000/40000 [==============================] - 462s 12ms/step - loss: 0.4979 - acc: 0.8398 - val_loss: 1.2188 - val_acc: 0.6332\n",
            "Epoch 43/50\n",
            "40000/40000 [==============================] - 460s 11ms/step - loss: 0.4857 - acc: 0.8444 - val_loss: 1.1940 - val_acc: 0.6445\n",
            "Epoch 44/50\n",
            "40000/40000 [==============================] - 464s 12ms/step - loss: 0.4727 - acc: 0.8509 - val_loss: 1.2363 - val_acc: 0.6341\n",
            "Epoch 45/50\n",
            "40000/40000 [==============================] - 460s 12ms/step - loss: 0.4609 - acc: 0.8534 - val_loss: 1.2149 - val_acc: 0.6401\n",
            "Epoch 46/50\n",
            "40000/40000 [==============================] - 461s 12ms/step - loss: 0.4490 - acc: 0.8561 - val_loss: 1.1908 - val_acc: 0.6500\n",
            "Epoch 47/50\n",
            "33120/40000 [=======================>......] - ETA: 1:14 - loss: 0.4336 - acc: 0.8639Buffered data was truncated after reaching the output size limit."
          ],
          "name": "stdout"
        }
      ]
    },
    {
      "metadata": {
        "id": "jwHxfFdDklSF",
        "colab_type": "code",
        "colab": {
          "base_uri": "https://localhost:8080/",
          "height": 34
        },
        "outputId": "a9eef7ea-5e4e-46d9-c7e7-21482195be63"
      },
      "cell_type": "code",
      "source": [
        "val_loss, val_acc = model.evaluate(x_val, y_val, verbose=1)"
      ],
      "execution_count": 19,
      "outputs": [
        {
          "output_type": "stream",
          "text": [
            "10000/10000 [==============================] - 33s 3ms/step\n"
          ],
          "name": "stdout"
        }
      ]
    },
    {
      "metadata": {
        "id": "dTtTXBGDgLto",
        "colab_type": "code",
        "colab": {
          "base_uri": "https://localhost:8080/",
          "height": 376
        },
        "outputId": "29d833a4-4e32-42c1-f088-a9a740d1db5c"
      },
      "cell_type": "code",
      "source": [
        "history_dict = history.history\n",
        "loss = history_dict['loss']\n",
        "val_loss = history_dict['val_loss']\n",
        "epochs_range = range(1, epochs+1)\n",
        "\n",
        "plt.plot(epochs_range, loss, 'bo', label='Training loss')\n",
        "plt.plot(epochs_range, val_loss, 'ro', label='Validation loss')\n",
        "plt.title('Training and Validation Loss')\n",
        "plt.xlabel('Epochs')\n",
        "plt.ylabel('Loss')\n",
        "plt.legend()\n",
        "plt.show()"
      ],
      "execution_count": 20,
      "outputs": [
        {
          "output_type": "display_data",
          "data": {
            "image/png": "[encoded data removed]",
            "text/plain": [
              "<Figure size 576x396 with 1 Axes>"
            ]
          },
          "metadata": {
            "tags": []
          }
        }
      ]
    },
    {
      "metadata": {
        "id": "1wUsh5uogM13",
        "colab_type": "code",
        "colab": {
          "base_uri": "https://localhost:8080/",
          "height": 376
        },
        "outputId": "24a6a9d3-349b-40ac-f3b1-0c7ddae6b258"
      },
      "cell_type": "code",
      "source": [
        "acc = history_dict['acc']\n",
        "val_acc = history_dict['val_acc']\n",
        "\n",
        "plt.plot(epochs_range, acc, 'bo', label='Training Accuracy')\n",
        "plt.plot(epochs_range, val_acc, 'ro', label='Validation Accuracy')\n",
        "plt.title('Training and Validation Loss')\n",
        "plt.xlabel('Epochs')\n",
        "plt.ylabel('Loss')\n",
        "plt.legend()\n",
        "plt.show()"
      ],
      "execution_count": 21,
      "outputs": [
        {
          "output_type": "display_data",
          "data": {
            "image/png": "[encoded data removed]",
            "text/plain": [
              "<Figure size 576x396 with 1 Axes>"
            ]
          },
          "metadata": {
            "tags": []
          }
        }
      ]
    }
  ]
}