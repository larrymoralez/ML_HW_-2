{
  "nbformat": 4,
  "nbformat_minor": 0,
  "metadata": {
    "colab": {
      "name": "ML HW #2.1.ipynb",
      "version": "0.3.2",
      "provenance": [],
      "include_colab_link": true
    },
    "kernelspec": {
      "name": "python3",
      "display_name": "Python 3"
    }
  },
  "cells": [
    {
      "cell_type": "markdown",
      "metadata": {
        "id": "view-in-github",
        "colab_type": "text"
      },
      "source": [
        "<a href=\"https://colab.research.google.com/github/larrymoralez/ML_HW_-2/blob/master/ML_HW_2_1.ipynb\" target=\"_parent\"><img src=\"https://colab.research.google.com/assets/colab-badge.svg\" alt=\"Open In Colab\"/></a>"
      ]
    },
    {
      "metadata": {
        "id": "th6PBQxM01G1",
        "colab_type": "code",
        "colab": {}
      },
      "cell_type": "code",
      "source": [
        "#Import libraries\n",
        "import numpy as np\n",
        "from matplotlib import pyplot\n",
        "import keras\n",
        "from keras.datasets import cifar10\n",
        "from keras.preprocessing.image import ImageDataGenerator\n",
        "from keras.models import Sequential\n",
        "from keras.layers import Dense, Dropout, Activation, Flatten\n",
        "from keras.layers import Conv2D, MaxPooling2D\n",
        "from sklearn.model_selection import train_test_split\n",
        "import matplotlib.pyplot as plt\n",
        "\n",
        "(x_train, y_train), (x_test, y_test) = cifar10.load_data()\n",
        "\n"
      ],
      "execution_count": 0,
      "outputs": []
    },
    {
      "metadata": {
        "id": "wpT1rD9W2FMe",
        "colab_type": "code",
        "colab": {}
      },
      "cell_type": "code",
      "source": [
        "#split data into training and test data. Be careful to only run once or it will split data over and over again.\n",
        "x_train, x_val, y_train, y_val = train_test_split(x_train, y_train, test_size=0.2, random_state=42)"
      ],
      "execution_count": 0,
      "outputs": []
    },
    {
      "metadata": {
        "id": "J9L6AoAg5paF",
        "colab_type": "code",
        "colab": {}
      },
      "cell_type": "code",
      "source": [
        "#Set initial params\n",
        "batch_size = 32\n",
        "num_classes = 10\n",
        "epochs = 50\n",
        "RMS = keras.optimizers.rmsprop(lr=0.00001, decay=1e-6)\n",
        "\n"
      ],
      "execution_count": 0,
      "outputs": []
    },
    {
      "metadata": {
        "id": "s-etfdRw2F0U",
        "colab_type": "code",
        "colab": {}
      },
      "cell_type": "code",
      "source": [
        "#Convert labels to categroical\n",
        "y_train = keras.utils.to_categorical(y_train, num_classes)\n",
        "y_val = keras.utils.to_categorical(y_val, num_classes)\n",
        "y_test = keras.utils.to_categorical(y_test, num_classes)"
      ],
      "execution_count": 0,
      "outputs": []
    },
    {
      "metadata": {
        "id": "rbGFmW8J2H5I",
        "colab_type": "code",
        "colab": {
          "base_uri": "https://localhost:8080/",
          "height": 510
        },
        "outputId": "3ba1f72a-8c10-43cc-dc32-617ccabcbe0d"
      },
      "cell_type": "code",
      "source": [
        "model = Sequential()\n",
        "model.add(Conv2D(32, (3, 3), padding='same', input_shape=x_train.shape[1:]))\n",
        "model.add(Activation('relu'))\n",
        "model.add(MaxPooling2D(pool_size=(2, 2)))\n",
        "\n",
        "model.add(Conv2D(64, (3, 3), padding='same'))\n",
        "model.add(Activation('relu'))\n",
        "model.add(MaxPooling2D(pool_size=(2, 2)))\n",
        "\n",
        "model.add(Flatten())\n",
        "model.add(Dense(512))\n",
        "model.add(Activation('relu'))\n",
        "model.add(Dense(num_classes))\n",
        "model.add(Activation('softmax'))\n",
        "\n",
        "model.summary()"
      ],
      "execution_count": 75,
      "outputs": [
        {
          "output_type": "stream",
          "text": [
            "_________________________________________________________________\n",
            "Layer (type)                 Output Shape              Param #   \n",
            "=================================================================\n",
            "conv2d_9 (Conv2D)            (None, 32, 32, 32)        896       \n",
            "_________________________________________________________________\n",
            "activation_17 (Activation)   (None, 32, 32, 32)        0         \n",
            "_________________________________________________________________\n",
            "max_pooling2d_9 (MaxPooling2 (None, 16, 16, 32)        0         \n",
            "_________________________________________________________________\n",
            "conv2d_10 (Conv2D)           (None, 16, 16, 64)        18496     \n",
            "_________________________________________________________________\n",
            "activation_18 (Activation)   (None, 16, 16, 64)        0         \n",
            "_________________________________________________________________\n",
            "max_pooling2d_10 (MaxPooling (None, 8, 8, 64)          0         \n",
            "_________________________________________________________________\n",
            "flatten_5 (Flatten)          (None, 4096)              0         \n",
            "_________________________________________________________________\n",
            "dense_9 (Dense)              (None, 512)               2097664   \n",
            "_________________________________________________________________\n",
            "activation_19 (Activation)   (None, 512)               0         \n",
            "_________________________________________________________________\n",
            "dense_10 (Dense)             (None, 10)                5130      \n",
            "_________________________________________________________________\n",
            "activation_20 (Activation)   (None, 10)                0         \n",
            "=================================================================\n",
            "Total params: 2,122,186\n",
            "Trainable params: 2,122,186\n",
            "Non-trainable params: 0\n",
            "_________________________________________________________________\n"
          ],
          "name": "stdout"
        }
      ]
    },
    {
      "metadata": {
        "id": "dfs9_WrA2ebG",
        "colab_type": "code",
        "colab": {}
      },
      "cell_type": "code",
      "source": [
        "#Compile model\n",
        "model.compile(loss='categorical_crossentropy',\n",
        "              optimizer=RMS,\n",
        "              metrics=['accuracy'])"
      ],
      "execution_count": 0,
      "outputs": []
    },
    {
      "metadata": {
        "id": "5Sgdo4FC2bEL",
        "colab_type": "code",
        "colab": {
          "base_uri": "https://localhost:8080/",
          "height": 1652
        },
        "outputId": "d503af11-2d09-4665-86ac-524eaae8abe3"
      },
      "cell_type": "code",
      "source": [
        "history = model.fit(x_train, y_train, batch_size = batch_size, epochs = epochs, validation_data=(x_val, y_val), shuffle = True)"
      ],
      "execution_count": 77,
      "outputs": [
        {
          "output_type": "stream",
          "text": [
            "Train on 40000 samples, validate on 10000 samples\n",
            "Epoch 1/50\n",
            "40000/40000 [==============================] - 352s 9ms/step - loss: 6.7653 - acc: 0.2580 - val_loss: 4.1523 - val_acc: 0.3380\n",
            "Epoch 2/50\n",
            "40000/40000 [==============================] - 380s 9ms/step - loss: 3.5016 - acc: 0.3579 - val_loss: 3.1125 - val_acc: 0.3675\n",
            "Epoch 3/50\n",
            "40000/40000 [==============================] - 387s 10ms/step - loss: 2.6494 - acc: 0.4106 - val_loss: 2.5199 - val_acc: 0.4076\n",
            "Epoch 4/50\n",
            "40000/40000 [==============================] - 386s 10ms/step - loss: 2.1939 - acc: 0.4514 - val_loss: 2.2720 - val_acc: 0.4236\n",
            "Epoch 5/50\n",
            "40000/40000 [==============================] - 399s 10ms/step - loss: 1.9075 - acc: 0.4828 - val_loss: 1.9998 - val_acc: 0.4523\n",
            "Epoch 6/50\n",
            "40000/40000 [==============================] - 388s 10ms/step - loss: 1.7011 - acc: 0.5114 - val_loss: 1.8501 - val_acc: 0.4794\n",
            "Epoch 7/50\n",
            "40000/40000 [==============================] - 393s 10ms/step - loss: 1.5497 - acc: 0.5413 - val_loss: 1.7663 - val_acc: 0.4887\n",
            "Epoch 8/50\n",
            "40000/40000 [==============================] - 386s 10ms/step - loss: 1.4240 - acc: 0.5675 - val_loss: 1.6798 - val_acc: 0.5119\n",
            "Epoch 9/50\n",
            "40000/40000 [==============================] - 386s 10ms/step - loss: 1.3210 - acc: 0.5886 - val_loss: 1.6596 - val_acc: 0.5150\n",
            "Epoch 10/50\n",
            "40000/40000 [==============================] - 382s 10ms/step - loss: 1.2312 - acc: 0.6074 - val_loss: 1.5920 - val_acc: 0.5376\n",
            "Epoch 11/50\n",
            "40000/40000 [==============================] - 390s 10ms/step - loss: 1.1544 - acc: 0.6294 - val_loss: 1.5803 - val_acc: 0.5388\n",
            "Epoch 12/50\n",
            "40000/40000 [==============================] - 383s 10ms/step - loss: 1.0845 - acc: 0.6476 - val_loss: 1.5028 - val_acc: 0.5508\n",
            "Epoch 13/50\n",
            "40000/40000 [==============================] - 388s 10ms/step - loss: 1.0197 - acc: 0.6649 - val_loss: 1.5005 - val_acc: 0.5572\n",
            "Epoch 14/50\n",
            "40000/40000 [==============================] - 386s 10ms/step - loss: 0.9647 - acc: 0.6824 - val_loss: 1.5220 - val_acc: 0.5523\n",
            "Epoch 15/50\n",
            "40000/40000 [==============================] - 379s 9ms/step - loss: 0.9121 - acc: 0.6978 - val_loss: 1.4623 - val_acc: 0.5651\n",
            "Epoch 16/50\n",
            "40000/40000 [==============================] - 379s 9ms/step - loss: 0.8676 - acc: 0.7100 - val_loss: 1.4537 - val_acc: 0.5727\n",
            "Epoch 17/50\n",
            "40000/40000 [==============================] - 378s 9ms/step - loss: 0.8230 - acc: 0.7255 - val_loss: 1.4269 - val_acc: 0.5831\n",
            "Epoch 18/50\n",
            "40000/40000 [==============================] - 380s 10ms/step - loss: 0.7820 - acc: 0.7402 - val_loss: 1.4591 - val_acc: 0.5745\n",
            "Epoch 19/50\n",
            "40000/40000 [==============================] - 390s 10ms/step - loss: 0.7449 - acc: 0.7518 - val_loss: 1.4156 - val_acc: 0.5822\n",
            "Epoch 20/50\n",
            "40000/40000 [==============================] - 391s 10ms/step - loss: 0.7096 - acc: 0.7628 - val_loss: 1.4351 - val_acc: 0.5792\n",
            "Epoch 21/50\n",
            "40000/40000 [==============================] - 381s 10ms/step - loss: 0.6740 - acc: 0.7756 - val_loss: 1.4493 - val_acc: 0.5815\n",
            "Epoch 22/50\n",
            "40000/40000 [==============================] - 387s 10ms/step - loss: 0.6423 - acc: 0.7864 - val_loss: 1.4075 - val_acc: 0.5921\n",
            "Epoch 23/50\n",
            "40000/40000 [==============================] - 383s 10ms/step - loss: 0.6099 - acc: 0.7983 - val_loss: 1.3995 - val_acc: 0.5936\n",
            "Epoch 24/50\n",
            "40000/40000 [==============================] - 389s 10ms/step - loss: 0.5845 - acc: 0.8078 - val_loss: 1.4091 - val_acc: 0.5954\n",
            "Epoch 25/50\n",
            "40000/40000 [==============================] - 384s 10ms/step - loss: 0.5556 - acc: 0.8154 - val_loss: 1.4216 - val_acc: 0.5941\n",
            "Epoch 26/50\n",
            "40000/40000 [==============================] - 386s 10ms/step - loss: 0.5277 - acc: 0.8265 - val_loss: 1.4262 - val_acc: 0.6041\n",
            "Epoch 27/50\n",
            "40000/40000 [==============================] - 385s 10ms/step - loss: 0.5035 - acc: 0.8364 - val_loss: 1.4349 - val_acc: 0.6033\n",
            "Epoch 28/50\n",
            "40000/40000 [==============================] - 384s 10ms/step - loss: 0.4804 - acc: 0.8427 - val_loss: 1.5193 - val_acc: 0.5937\n",
            "Epoch 29/50\n",
            "40000/40000 [==============================] - 384s 10ms/step - loss: 0.4569 - acc: 0.8511 - val_loss: 1.4105 - val_acc: 0.6085\n",
            "Epoch 30/50\n",
            "40000/40000 [==============================] - 386s 10ms/step - loss: 0.4359 - acc: 0.8607 - val_loss: 1.4695 - val_acc: 0.5948\n",
            "Epoch 31/50\n",
            "40000/40000 [==============================] - 386s 10ms/step - loss: 0.4151 - acc: 0.8683 - val_loss: 1.4440 - val_acc: 0.6018\n",
            "Epoch 32/50\n",
            "40000/40000 [==============================] - 387s 10ms/step - loss: 0.3951 - acc: 0.8754 - val_loss: 1.4262 - val_acc: 0.6141\n",
            "Epoch 33/50\n",
            "40000/40000 [==============================] - 386s 10ms/step - loss: 0.3756 - acc: 0.8830 - val_loss: 1.4514 - val_acc: 0.6133\n",
            "Epoch 34/50\n",
            "40000/40000 [==============================] - 382s 10ms/step - loss: 0.3586 - acc: 0.8878 - val_loss: 1.4684 - val_acc: 0.6084\n",
            "Epoch 35/50\n",
            "40000/40000 [==============================] - 388s 10ms/step - loss: 0.3409 - acc: 0.8957 - val_loss: 1.4766 - val_acc: 0.6099\n",
            "Epoch 36/50\n",
            "40000/40000 [==============================] - 382s 10ms/step - loss: 0.3243 - acc: 0.9014 - val_loss: 1.4754 - val_acc: 0.6143\n",
            "Epoch 37/50\n",
            "40000/40000 [==============================] - 385s 10ms/step - loss: 0.3085 - acc: 0.9077 - val_loss: 1.4946 - val_acc: 0.6182\n",
            "Epoch 38/50\n",
            "40000/40000 [==============================] - 382s 10ms/step - loss: 0.2931 - acc: 0.9133 - val_loss: 1.5062 - val_acc: 0.6140\n",
            "Epoch 39/50\n",
            "40000/40000 [==============================] - 386s 10ms/step - loss: 0.2787 - acc: 0.9180 - val_loss: 1.5264 - val_acc: 0.6117\n",
            "Epoch 40/50\n",
            "40000/40000 [==============================] - 386s 10ms/step - loss: 0.2635 - acc: 0.9238 - val_loss: 1.5170 - val_acc: 0.6194\n",
            "Epoch 41/50\n",
            "40000/40000 [==============================] - 385s 10ms/step - loss: 0.2510 - acc: 0.9283 - val_loss: 1.5317 - val_acc: 0.6128\n",
            "Epoch 42/50\n",
            "40000/40000 [==============================] - 388s 10ms/step - loss: 0.2381 - acc: 0.9334 - val_loss: 1.5251 - val_acc: 0.6163\n",
            "Epoch 43/50\n",
            "40000/40000 [==============================] - 385s 10ms/step - loss: 0.2265 - acc: 0.9367 - val_loss: 1.5935 - val_acc: 0.6048\n",
            "Epoch 44/50\n",
            "40000/40000 [==============================] - 386s 10ms/step - loss: 0.2138 - acc: 0.9418 - val_loss: 1.5537 - val_acc: 0.6233\n",
            "Epoch 45/50\n",
            "40000/40000 [==============================] - 383s 10ms/step - loss: 0.2029 - acc: 0.9465 - val_loss: 1.5630 - val_acc: 0.6223\n",
            "Epoch 46/50\n",
            "40000/40000 [==============================] - 383s 10ms/step - loss: 0.1919 - acc: 0.9500 - val_loss: 1.5984 - val_acc: 0.6180\n",
            "Epoch 47/50\n",
            "33440/40000 [========================>.....] - ETA: 58s - loss: 0.1794 - acc: 0.9531Buffered data was truncated after reaching the output size limit."
          ],
          "name": "stdout"
        }
      ]
    },
    {
      "metadata": {
        "id": "CKAW1RaO2QqQ",
        "colab_type": "code",
        "colab": {
          "base_uri": "https://localhost:8080/",
          "height": 68
        },
        "outputId": "798c42b1-1a83-467d-ac9d-8129c13db8e5"
      },
      "cell_type": "code",
      "source": [
        "val_loss, val_acc = model.evaluate(x_val, y_val, verbose=1)\n",
        "print('Loss:', scores[0])\n",
        "print('Accuracy:', scores[1])"
      ],
      "execution_count": 78,
      "outputs": [
        {
          "output_type": "stream",
          "text": [
            "10000/10000 [==============================] - 27s 3ms/step\n",
            "Loss: 3.9821304901123047\n",
            "Accuracy: 0.3197\n"
          ],
          "name": "stdout"
        }
      ]
    },
    {
      "metadata": {
        "id": "itFM3RnFVpEg",
        "colab_type": "code",
        "colab": {
          "base_uri": "https://localhost:8080/",
          "height": 376
        },
        "outputId": "806acfa3-026f-4e75-9a5f-804df96ab83e"
      },
      "cell_type": "code",
      "source": [
        "history_dict = history.history\n",
        "loss = history_dict['loss']\n",
        "val_loss = history_dict['val_loss']\n",
        "epochs_range = range(1, epochs+1)\n",
        "\n",
        "plt.plot(epochs_range, loss, 'bo', label='Training loss')\n",
        "plt.plot(epochs_range, val_loss, 'ro', label='Validation loss')\n",
        "plt.title('Training and Test Loss')\n",
        "plt.xlabel('Epochs')\n",
        "plt.ylabel('Loss')\n",
        "plt.legend()\n",
        "plt.show()"
      ],
      "execution_count": 79,
      "outputs": [
        {
          "output_type": "display_data",
          "data": {
            "image/png": "[encoded data removed]",
            "text/plain": [
              "<Figure size 576x396 with 1 Axes>"
            ]
          },
          "metadata": {
            "tags": []
          }
        }
      ]
    },
    {
      "metadata": {
        "id": "Hu-0FxWnVp8h",
        "colab_type": "code",
        "colab": {
          "base_uri": "https://localhost:8080/",
          "height": 376
        },
        "outputId": "06983e08-25be-4631-e0bb-a7aff8401104"
      },
      "cell_type": "code",
      "source": [
        "acc = history_dict['acc']\n",
        "val_acc = history_dict['val_acc']\n",
        "\n",
        "plt.plot(epochs_range, acc, 'bo', label='Training Accuracy')\n",
        "plt.plot(epochs_range, val_acc, 'ro', label='Validation Accuracy')\n",
        "plt.title('Training and Test Loss')\n",
        "plt.xlabel('Epochs')\n",
        "plt.ylabel('Loss')\n",
        "plt.legend()\n",
        "plt.show()"
      ],
      "execution_count": 80,
      "outputs": [
        {
          "output_type": "display_data",
          "data": {
            "image/png": "[encoded data removed]",
            "text/plain": [
              "<Figure size 576x396 with 1 Axes>"
            ]
          },
          "metadata": {
            "tags": []
          }
        }
      ]
    }
  ]
}