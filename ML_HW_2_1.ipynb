{
  "nbformat": 4,
  "nbformat_minor": 0,
  "metadata": {
    "colab": {
      "name": "ML HW #2.1.ipynb",
      "version": "0.3.2",
      "provenance": [],
      "include_colab_link": true
    },
    "kernelspec": {
      "name": "python3",
      "display_name": "Python 3"
    }
  },
  "cells": [
    {
      "cell_type": "markdown",
      "metadata": {
        "id": "view-in-github",
        "colab_type": "text"
      },
      "source": [
        "<a href=\"https://colab.research.google.com/github/larrymoralez/ML_HW_-2/blob/master/ML_HW_2_1.ipynb\" target=\"_parent\"><img src=\"https://colab.research.google.com/assets/colab-badge.svg\" alt=\"Open In Colab\"/></a>"
      ]
    },
    {
      "metadata": {
        "id": "th6PBQxM01G1",
        "colab_type": "code",
        "colab": {}
      },
      "cell_type": "code",
      "source": [
        "#Import libraries\n",
        "import numpy as np\n",
        "from matplotlib import pyplot\n",
        "import keras\n",
        "from keras.datasets import cifar10\n",
        "from keras.preprocessing.image import ImageDataGenerator\n",
        "from keras.models import Sequential\n",
        "from keras.layers import Dense, Dropout, Activation, Flatten\n",
        "from keras.layers import Conv2D, MaxPooling2D\n",
        "from sklearn.model_selection import train_test_split\n",
        "\n",
        "(x_train, y_train), (x_test, y_test) = cifar10.load_data()\n",
        "\n"
      ],
      "execution_count": 0,
      "outputs": []
    },
    {
      "metadata": {
        "id": "wpT1rD9W2FMe",
        "colab_type": "code",
        "colab": {}
      },
      "cell_type": "code",
      "source": [
        "#split data into training and test data. Be careful to only run once or it will split data over and over again.\n",
        "x_train, x_val, y_train, y_val = train_test_split(x_train, y_train, test_size=0.2, random_state=42)"
      ],
      "execution_count": 0,
      "outputs": []
    },
    {
      "metadata": {
        "id": "J9L6AoAg5paF",
        "colab_type": "code",
        "colab": {}
      },
      "cell_type": "code",
      "source": [
        "#Convert labels to categroical\n",
        "y_train = keras.utils.to_categorical(y_train, num_classes)\n",
        "y_val = keras.utils.to_categorical(y_val, num_classes)\n",
        "y_test = keras.utils.to_categorical(y_test, num_classes)"
      ],
      "execution_count": 0,
      "outputs": []
    },
    {
      "metadata": {
        "id": "s-etfdRw2F0U",
        "colab_type": "code",
        "colab": {}
      },
      "cell_type": "code",
      "source": [
        "#Set initial params\n",
        "batch_size = 32\n",
        "num_classes = 10\n",
        "epochs = 50\n",
        "RMS = keras.optimizers.rmsprop(lr=0.00001, decay=1e-6)"
      ],
      "execution_count": 0,
      "outputs": []
    },
    {
      "metadata": {
        "id": "rbGFmW8J2H5I",
        "colab_type": "code",
        "colab": {
          "base_uri": "https://localhost:8080/",
          "height": 510
        },
        "outputId": "712b71a4-440f-4a67-c1cf-ba79f2551ded"
      },
      "cell_type": "code",
      "source": [
        "model = Sequential()\n",
        "model.add(Conv2D(32, (3, 3), padding='same', input_shape=x_train.shape[1:]))\n",
        "model.add(Activation('relu'))\n",
        "model.add(MaxPooling2D(pool_size=(2, 2)))\n",
        "\n",
        "model.add(Conv2D(64, (3, 3), padding='same'))\n",
        "model.add(Activation('relu'))\n",
        "model.add(MaxPooling2D(pool_size=(2, 2)))\n",
        "\n",
        "model.add(Flatten())\n",
        "model.add(Dense(512))\n",
        "model.add(Activation('relu'))\n",
        "model.add(Dense(num_classes))\n",
        "model.add(Activation('softmax'))\n",
        "\n",
        "model.summary()"
      ],
      "execution_count": 187,
      "outputs": [
        {
          "output_type": "stream",
          "text": [
            "_________________________________________________________________\n",
            "Layer (type)                 Output Shape              Param #   \n",
            "=================================================================\n",
            "conv2d_65 (Conv2D)           (None, 32, 32, 32)        896       \n",
            "_________________________________________________________________\n",
            "activation_99 (Activation)   (None, 32, 32, 32)        0         \n",
            "_________________________________________________________________\n",
            "max_pooling2d_63 (MaxPooling (None, 16, 16, 32)        0         \n",
            "_________________________________________________________________\n",
            "conv2d_66 (Conv2D)           (None, 16, 16, 64)        18496     \n",
            "_________________________________________________________________\n",
            "activation_100 (Activation)  (None, 16, 16, 64)        0         \n",
            "_________________________________________________________________\n",
            "max_pooling2d_64 (MaxPooling (None, 8, 8, 64)          0         \n",
            "_________________________________________________________________\n",
            "flatten_25 (Flatten)         (None, 4096)              0         \n",
            "_________________________________________________________________\n",
            "dense_36 (Dense)             (None, 512)               2097664   \n",
            "_________________________________________________________________\n",
            "activation_101 (Activation)  (None, 512)               0         \n",
            "_________________________________________________________________\n",
            "dense_37 (Dense)             (None, 10)                5130      \n",
            "_________________________________________________________________\n",
            "activation_102 (Activation)  (None, 10)                0         \n",
            "=================================================================\n",
            "Total params: 2,122,186\n",
            "Trainable params: 2,122,186\n",
            "Non-trainable params: 0\n",
            "_________________________________________________________________\n"
          ],
          "name": "stdout"
        }
      ]
    },
    {
      "metadata": {
        "id": "dfs9_WrA2ebG",
        "colab_type": "code",
        "colab": {}
      },
      "cell_type": "code",
      "source": [
        "#Compile model\n",
        "model.compile(loss='categorical_crossentropy',\n",
        "              optimizer=RMS,\n",
        "              metrics=['accuracy'])"
      ],
      "execution_count": 0,
      "outputs": []
    },
    {
      "metadata": {
        "id": "5Sgdo4FC2bEL",
        "colab_type": "code",
        "colab": {
          "base_uri": "https://localhost:8080/",
          "height": 1567
        },
        "outputId": "daf2db5c-5c11-4b95-b6ca-dbb3b7bfd3d6"
      },
      "cell_type": "code",
      "source": [
        "model.fit(x_train, y_train, batch_size = batch_size, epochs = epochs, shuffle = True)"
      ],
      "execution_count": 189,
      "outputs": [
        {
          "output_type": "stream",
          "text": [
            "Epoch 1/50\n",
            "40000/40000 [==============================] - 125s 3ms/step - loss: 7.0869 - acc: 0.2541\n",
            "Epoch 2/50\n",
            "40000/40000 [==============================] - 122s 3ms/step - loss: 4.8003 - acc: 0.3364\n",
            "Epoch 3/50\n",
            "40000/40000 [==============================] - 123s 3ms/step - loss: 4.0970 - acc: 0.3720\n",
            "Epoch 4/50\n",
            "40000/40000 [==============================] - 123s 3ms/step - loss: 3.3823 - acc: 0.4063\n",
            "Epoch 5/50\n",
            "40000/40000 [==============================] - 122s 3ms/step - loss: 2.1577 - acc: 0.4461\n",
            "Epoch 6/50\n",
            "40000/40000 [==============================] - 123s 3ms/step - loss: 1.8658 - acc: 0.4809\n",
            "Epoch 7/50\n",
            "40000/40000 [==============================] - 121s 3ms/step - loss: 1.6887 - acc: 0.5104\n",
            "Epoch 8/50\n",
            "40000/40000 [==============================] - 122s 3ms/step - loss: 1.5427 - acc: 0.5370\n",
            "Epoch 9/50\n",
            "40000/40000 [==============================] - 123s 3ms/step - loss: 1.4346 - acc: 0.5593\n",
            "Epoch 10/50\n",
            "40000/40000 [==============================] - 122s 3ms/step - loss: 1.3454 - acc: 0.5773\n",
            "Epoch 11/50\n",
            "40000/40000 [==============================] - 123s 3ms/step - loss: 1.2615 - acc: 0.5978\n",
            "Epoch 12/50\n",
            "40000/40000 [==============================] - 122s 3ms/step - loss: 1.1927 - acc: 0.6160\n",
            "Epoch 13/50\n",
            "40000/40000 [==============================] - 122s 3ms/step - loss: 1.1310 - acc: 0.6304\n",
            "Epoch 14/50\n",
            "40000/40000 [==============================] - 122s 3ms/step - loss: 1.0754 - acc: 0.6464\n",
            "Epoch 15/50\n",
            "40000/40000 [==============================] - 123s 3ms/step - loss: 1.0256 - acc: 0.6614\n",
            "Epoch 16/50\n",
            "40000/40000 [==============================] - 123s 3ms/step - loss: 0.9788 - acc: 0.6751\n",
            "Epoch 17/50\n",
            "40000/40000 [==============================] - 123s 3ms/step - loss: 0.9356 - acc: 0.6892\n",
            "Epoch 18/50\n",
            "40000/40000 [==============================] - 122s 3ms/step - loss: 0.8934 - acc: 0.7017\n",
            "Epoch 19/50\n",
            "40000/40000 [==============================] - 125s 3ms/step - loss: 0.8559 - acc: 0.7160\n",
            "Epoch 20/50\n",
            "40000/40000 [==============================] - 123s 3ms/step - loss: 0.8210 - acc: 0.7243\n",
            "Epoch 21/50\n",
            "40000/40000 [==============================] - 124s 3ms/step - loss: 0.7862 - acc: 0.7370\n",
            "Epoch 22/50\n",
            "40000/40000 [==============================] - 124s 3ms/step - loss: 0.7552 - acc: 0.7468\n",
            "Epoch 23/50\n",
            "40000/40000 [==============================] - 125s 3ms/step - loss: 0.7230 - acc: 0.7585\n",
            "Epoch 24/50\n",
            "40000/40000 [==============================] - 124s 3ms/step - loss: 0.6954 - acc: 0.7675\n",
            "Epoch 25/50\n",
            "40000/40000 [==============================] - 124s 3ms/step - loss: 0.6667 - acc: 0.7784\n",
            "Epoch 26/50\n",
            "40000/40000 [==============================] - 123s 3ms/step - loss: 0.6411 - acc: 0.7866\n",
            "Epoch 27/50\n",
            "40000/40000 [==============================] - 122s 3ms/step - loss: 0.6168 - acc: 0.7953\n",
            "Epoch 28/50\n",
            "40000/40000 [==============================] - 123s 3ms/step - loss: 0.5912 - acc: 0.8048\n",
            "Epoch 29/50\n",
            "40000/40000 [==============================] - 124s 3ms/step - loss: 0.5663 - acc: 0.8146\n",
            "Epoch 30/50\n",
            "40000/40000 [==============================] - 121s 3ms/step - loss: 0.5461 - acc: 0.8217\n",
            "Epoch 31/50\n",
            "40000/40000 [==============================] - 120s 3ms/step - loss: 0.5261 - acc: 0.8296\n",
            "Epoch 32/50\n",
            "40000/40000 [==============================] - 120s 3ms/step - loss: 0.5049 - acc: 0.8335\n",
            "Epoch 33/50\n",
            "40000/40000 [==============================] - 129s 3ms/step - loss: 0.4845 - acc: 0.8449\n",
            "Epoch 34/50\n",
            "40000/40000 [==============================] - 127s 3ms/step - loss: 0.4647 - acc: 0.8518\n",
            "Epoch 35/50\n",
            "40000/40000 [==============================] - 127s 3ms/step - loss: 0.4444 - acc: 0.8590\n",
            "Epoch 36/50\n",
            "40000/40000 [==============================] - 126s 3ms/step - loss: 0.4284 - acc: 0.8654\n",
            "Epoch 37/50\n",
            "40000/40000 [==============================] - 127s 3ms/step - loss: 0.4101 - acc: 0.8718\n",
            "Epoch 38/50\n",
            "40000/40000 [==============================] - 126s 3ms/step - loss: 0.3944 - acc: 0.8781\n",
            "Epoch 39/50\n",
            "40000/40000 [==============================] - 126s 3ms/step - loss: 0.3796 - acc: 0.8831\n",
            "Epoch 40/50\n",
            "40000/40000 [==============================] - 126s 3ms/step - loss: 0.3633 - acc: 0.8878\n",
            "Epoch 41/50\n",
            "40000/40000 [==============================] - 128s 3ms/step - loss: 0.3480 - acc: 0.8962\n",
            "Epoch 42/50\n",
            "40000/40000 [==============================] - 128s 3ms/step - loss: 0.3332 - acc: 0.9000\n",
            "Epoch 43/50\n",
            "40000/40000 [==============================] - 128s 3ms/step - loss: 0.3192 - acc: 0.9061\n",
            "Epoch 44/50\n",
            "40000/40000 [==============================] - 129s 3ms/step - loss: 0.3056 - acc: 0.9099\n",
            "Epoch 45/50\n",
            "38528/40000 [===========================>..] - ETA: 4s - loss: 0.2907 - acc: 0.9146Buffered data was truncated after reaching the output size limit."
          ],
          "name": "stdout"
        }
      ]
    },
    {
      "metadata": {
        "id": "CKAW1RaO2QqQ",
        "colab_type": "code",
        "colab": {
          "base_uri": "https://localhost:8080/",
          "height": 68
        },
        "outputId": "7fa55ce8-a3db-44e3-db34-2d522d5c9bdf"
      },
      "cell_type": "code",
      "source": [
        "scores = model.evaluate(x_val, y_val, verbose=1)\n",
        "print('Loss:', scores[0])\n",
        "print('Accuracy:', scores[1])"
      ],
      "execution_count": 191,
      "outputs": [
        {
          "output_type": "stream",
          "text": [
            "10000/10000 [==============================] - 9s 932us/step\n",
            "Loss: 1.4948534156799316\n",
            "Accuracy: 0.6196\n"
          ],
          "name": "stdout"
        }
      ]
    }
  ]
}