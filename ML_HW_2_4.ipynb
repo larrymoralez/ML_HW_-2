{
  "nbformat": 4,
  "nbformat_minor": 0,
  "metadata": {
    "colab": {
      "name": "ML HW #2.4.ipynb",
      "version": "0.3.2",
      "provenance": [],
      "include_colab_link": true
    },
    "kernelspec": {
      "name": "python3",
      "display_name": "Python 3"
    }
  },
  "cells": [
    {
      "cell_type": "markdown",
      "metadata": {
        "id": "view-in-github",
        "colab_type": "text"
      },
      "source": [
        "<a href=\"https://colab.research.google.com/github/larrymoralez/ML_HW_-2/blob/master/ML_HW_2_4.ipynb\" target=\"_parent\"><img src=\"https://colab.research.google.com/assets/colab-badge.svg\" alt=\"Open In Colab\"/></a>"
      ]
    },
    {
      "metadata": {
        "id": "IZZ8g2tvW1XS",
        "colab_type": "code",
        "colab": {
          "base_uri": "https://localhost:8080/",
          "height": 68
        },
        "outputId": "68f66d5d-6ee9-467f-82ae-e550a7facaac"
      },
      "cell_type": "code",
      "source": [
        "#Import libraries\n",
        "import numpy as np\n",
        "from matplotlib import pyplot\n",
        "import keras\n",
        "from keras.datasets import cifar10\n",
        "from keras.preprocessing.image import ImageDataGenerator\n",
        "from keras.models import Sequential\n",
        "from keras.layers import Dense, Dropout, Activation, Flatten\n",
        "from keras.layers import Conv2D, MaxPooling2D\n",
        "from sklearn.model_selection import train_test_split\n",
        "import matplotlib.pyplot as plt\n",
        "\n",
        "(x_train, y_train), (x_test, y_test) = cifar10.load_data()\n",
        "\n",
        "\n"
      ],
      "execution_count": 1,
      "outputs": [
        {
          "output_type": "stream",
          "text": [
            "Using TensorFlow backend.\n"
          ],
          "name": "stderr"
        },
        {
          "output_type": "stream",
          "text": [
            "Downloading data from https://www.cs.toronto.edu/~kriz/cifar-10-python.tar.gz\n",
            "170500096/170498071 [==============================] - 30s 0us/step\n"
          ],
          "name": "stdout"
        }
      ]
    },
    {
      "metadata": {
        "id": "ZLF7DGk-W88x",
        "colab_type": "code",
        "colab": {}
      },
      "cell_type": "code",
      "source": [
        "#split data into training and test data. Be careful to only run once or it will split data over and over again.\n",
        "x_train, x_val, y_train, y_val = train_test_split(x_train, y_train, test_size=0.2, random_state=42)\n",
        "\n"
      ],
      "execution_count": 0,
      "outputs": []
    },
    {
      "metadata": {
        "id": "Zrv9LETKXCGD",
        "colab_type": "code",
        "colab": {
          "base_uri": "https://localhost:8080/",
          "height": 108
        },
        "outputId": "4b300e79-bb40-46a8-b070-134e950b314c"
      },
      "cell_type": "code",
      "source": [
        "#Set initial params\n",
        "batch_size = 32\n",
        "num_classes = 10\n",
        "epochs = 40\n",
        "RMS = keras.optimizers.rmsprop(lr=0.0001, decay=1e-6)"
      ],
      "execution_count": 3,
      "outputs": [
        {
          "output_type": "stream",
          "text": [
            "WARNING:tensorflow:From /usr/local/lib/python3.6/dist-packages/tensorflow/python/framework/op_def_library.py:263: colocate_with (from tensorflow.python.framework.ops) is deprecated and will be removed in a future version.\n",
            "Instructions for updating:\n",
            "Colocations handled automatically by placer.\n"
          ],
          "name": "stdout"
        }
      ]
    },
    {
      "metadata": {
        "id": "kV0JbxTBXCoX",
        "colab_type": "code",
        "colab": {}
      },
      "cell_type": "code",
      "source": [
        "#Convert labels to categroical\n",
        "y_train = keras.utils.to_categorical(y_train, num_classes)\n",
        "y_val = keras.utils.to_categorical(y_val, num_classes)\n",
        "y_test = keras.utils.to_categorical(y_test, num_classes)"
      ],
      "execution_count": 0,
      "outputs": []
    },
    {
      "metadata": {
        "id": "m6s9psbnXh_I",
        "colab_type": "code",
        "colab": {}
      },
      "cell_type": "code",
      "source": [
        "Data_Gen = ImageDataGenerator(\n",
        "  featurewise_center = False,\n",
        "  samplewise_center = False,\n",
        "  featurewise_std_normalization = False,\n",
        "  samplewise_std_normalization = False,\n",
        "  rotation_range = 90,\n",
        "  horizontal_flip = True,\n",
        "  vertical_flip = True)\n",
        "\n",
        "Data_Gen.fit(x_train)"
      ],
      "execution_count": 0,
      "outputs": []
    },
    {
      "metadata": {
        "id": "30S2zBjMXFt-",
        "colab_type": "code",
        "colab": {
          "base_uri": "https://localhost:8080/",
          "height": 839
        },
        "outputId": "1690802b-00dc-4f7f-a76b-14ddc836c6c1"
      },
      "cell_type": "code",
      "source": [
        "#Define model\n",
        "model = Sequential()\n",
        "model.add(Conv2D(32, (3, 3), padding='same', input_shape=x_train.shape[1:]))\n",
        "model.add(Activation('relu'))\n",
        "model.add(Conv2D(32, (3, 3)))\n",
        "model.add(Activation('relu'))\n",
        "model.add(MaxPooling2D(pool_size=(2, 2)))\n",
        "model.add(Dropout(0.25))\n",
        "\n",
        "model.add(Conv2D(64, (3, 3), padding='same'))\n",
        "model.add(Activation('relu'))\n",
        "model.add(Conv2D(64, (3, 3)))\n",
        "model.add(Activation('relu'))\n",
        "model.add(MaxPooling2D(pool_size=(2, 2)))\n",
        "model.add(Dropout(0.25))\n",
        "\n",
        "model.add(Flatten())\n",
        "model.add(Dense(512))\n",
        "model.add(Activation('relu'))\n",
        "model.add(Dropout(0.5))\n",
        "model.add(Dense(num_classes))\n",
        "model.add(Activation('softmax'))\n",
        "\n",
        "model.summary()"
      ],
      "execution_count": 6,
      "outputs": [
        {
          "output_type": "stream",
          "text": [
            "WARNING:tensorflow:From /usr/local/lib/python3.6/dist-packages/keras/backend/tensorflow_backend.py:3445: calling dropout (from tensorflow.python.ops.nn_ops) with keep_prob is deprecated and will be removed in a future version.\n",
            "Instructions for updating:\n",
            "Please use `rate` instead of `keep_prob`. Rate should be set to `rate = 1 - keep_prob`.\n",
            "_________________________________________________________________\n",
            "Layer (type)                 Output Shape              Param #   \n",
            "=================================================================\n",
            "conv2d_1 (Conv2D)            (None, 32, 32, 32)        896       \n",
            "_________________________________________________________________\n",
            "activation_1 (Activation)    (None, 32, 32, 32)        0         \n",
            "_________________________________________________________________\n",
            "conv2d_2 (Conv2D)            (None, 30, 30, 32)        9248      \n",
            "_________________________________________________________________\n",
            "activation_2 (Activation)    (None, 30, 30, 32)        0         \n",
            "_________________________________________________________________\n",
            "max_pooling2d_1 (MaxPooling2 (None, 15, 15, 32)        0         \n",
            "_________________________________________________________________\n",
            "dropout_1 (Dropout)          (None, 15, 15, 32)        0         \n",
            "_________________________________________________________________\n",
            "conv2d_3 (Conv2D)            (None, 15, 15, 64)        18496     \n",
            "_________________________________________________________________\n",
            "activation_3 (Activation)    (None, 15, 15, 64)        0         \n",
            "_________________________________________________________________\n",
            "conv2d_4 (Conv2D)            (None, 13, 13, 64)        36928     \n",
            "_________________________________________________________________\n",
            "activation_4 (Activation)    (None, 13, 13, 64)        0         \n",
            "_________________________________________________________________\n",
            "max_pooling2d_2 (MaxPooling2 (None, 6, 6, 64)          0         \n",
            "_________________________________________________________________\n",
            "dropout_2 (Dropout)          (None, 6, 6, 64)          0         \n",
            "_________________________________________________________________\n",
            "flatten_1 (Flatten)          (None, 2304)              0         \n",
            "_________________________________________________________________\n",
            "dense_1 (Dense)              (None, 512)               1180160   \n",
            "_________________________________________________________________\n",
            "activation_5 (Activation)    (None, 512)               0         \n",
            "_________________________________________________________________\n",
            "dropout_3 (Dropout)          (None, 512)               0         \n",
            "_________________________________________________________________\n",
            "dense_2 (Dense)              (None, 10)                5130      \n",
            "_________________________________________________________________\n",
            "activation_6 (Activation)    (None, 10)                0         \n",
            "=================================================================\n",
            "Total params: 1,250,858\n",
            "Trainable params: 1,250,858\n",
            "Non-trainable params: 0\n",
            "_________________________________________________________________\n"
          ],
          "name": "stdout"
        }
      ]
    },
    {
      "metadata": {
        "id": "w6Mo6G_UXIkG",
        "colab_type": "code",
        "colab": {}
      },
      "cell_type": "code",
      "source": [
        "#Compile model\n",
        "model.compile(loss='categorical_crossentropy',\n",
        "              optimizer=RMS,\n",
        "              metrics=['accuracy'])"
      ],
      "execution_count": 0,
      "outputs": []
    },
    {
      "metadata": {
        "id": "dZNamcq8XLDH",
        "colab_type": "code",
        "outputId": "421705d9-52b2-4a81-ea99-170eabf47a0e",
        "colab": {
          "base_uri": "https://localhost:8080/",
          "height": 1448
        }
      },
      "cell_type": "code",
      "source": [
        "history = model.fit_generator(Data_Gen.flow(x_train, y_train, batch_size = batch_size),\n",
        "                              steps_per_epoch = len(x_train) / 32,\n",
        "                              epochs = epochs, \n",
        "                              validation_data=(x_val, y_val), \n",
        "                              shuffle = True)"
      ],
      "execution_count": 8,
      "outputs": [
        {
          "output_type": "stream",
          "text": [
            "WARNING:tensorflow:From /usr/local/lib/python3.6/dist-packages/tensorflow/python/ops/math_ops.py:3066: to_int32 (from tensorflow.python.ops.math_ops) is deprecated and will be removed in a future version.\n",
            "Instructions for updating:\n",
            "Use tf.cast instead.\n",
            "Epoch 1/40\n",
            "1250/1250 [==============================] - 250s 200ms/step - loss: 3.9944 - acc: 0.2074 - val_loss: 1.9571 - val_acc: 0.2707\n",
            "Epoch 2/40\n",
            "1250/1250 [==============================] - 246s 197ms/step - loss: 1.9292 - acc: 0.2904 - val_loss: 1.8153 - val_acc: 0.3304\n",
            "Epoch 3/40\n",
            "1250/1250 [==============================] - 245s 196ms/step - loss: 1.8526 - acc: 0.3220 - val_loss: 1.7776 - val_acc: 0.3497\n",
            "Epoch 4/40\n",
            "1250/1250 [==============================] - 247s 197ms/step - loss: 1.8155 - acc: 0.3361 - val_loss: 1.8276 - val_acc: 0.3444\n",
            "Epoch 5/40\n",
            "1250/1250 [==============================] - 243s 195ms/step - loss: 1.7868 - acc: 0.3486 - val_loss: 1.7071 - val_acc: 0.3815\n",
            "Epoch 6/40\n",
            "1250/1250 [==============================] - 243s 195ms/step - loss: 1.7692 - acc: 0.3592 - val_loss: 1.7879 - val_acc: 0.3623\n",
            "Epoch 7/40\n",
            "1250/1250 [==============================] - 244s 195ms/step - loss: 1.7553 - acc: 0.3663 - val_loss: 1.7447 - val_acc: 0.3680\n",
            "Epoch 8/40\n",
            "1250/1250 [==============================] - 245s 196ms/step - loss: 1.7434 - acc: 0.3720 - val_loss: 1.7111 - val_acc: 0.3728\n",
            "Epoch 9/40\n",
            "1250/1250 [==============================] - 248s 198ms/step - loss: 1.7265 - acc: 0.3777 - val_loss: 1.7097 - val_acc: 0.3885\n",
            "Epoch 10/40\n",
            "1250/1250 [==============================] - 248s 199ms/step - loss: 1.7194 - acc: 0.3774 - val_loss: 1.6846 - val_acc: 0.3950\n",
            "Epoch 11/40\n",
            "1250/1250 [==============================] - 246s 197ms/step - loss: 1.7082 - acc: 0.3840 - val_loss: 1.6602 - val_acc: 0.4037\n",
            "Epoch 12/40\n",
            "1250/1250 [==============================] - 247s 198ms/step - loss: 1.6992 - acc: 0.3868 - val_loss: 1.8216 - val_acc: 0.3548\n",
            "Epoch 13/40\n",
            "1250/1250 [==============================] - 244s 195ms/step - loss: 1.6928 - acc: 0.3906 - val_loss: 1.8262 - val_acc: 0.3540\n",
            "Epoch 14/40\n",
            "1250/1250 [==============================] - 242s 194ms/step - loss: 1.6896 - acc: 0.3905 - val_loss: 1.7423 - val_acc: 0.3791\n",
            "Epoch 15/40\n",
            "1250/1250 [==============================] - 250s 200ms/step - loss: 1.6853 - acc: 0.3965 - val_loss: 1.7226 - val_acc: 0.3740\n",
            "Epoch 16/40\n",
            "1250/1250 [==============================] - 245s 196ms/step - loss: 1.6778 - acc: 0.4011 - val_loss: 1.6710 - val_acc: 0.3997\n",
            "Epoch 17/40\n",
            "1250/1250 [==============================] - 245s 196ms/step - loss: 1.6660 - acc: 0.4026 - val_loss: 1.6666 - val_acc: 0.3970\n",
            "Epoch 18/40\n",
            "1250/1250 [==============================] - 245s 196ms/step - loss: 1.6657 - acc: 0.4011 - val_loss: 1.6077 - val_acc: 0.4217\n",
            "Epoch 19/40\n",
            "1250/1250 [==============================] - 245s 196ms/step - loss: 1.6699 - acc: 0.3999 - val_loss: 1.6987 - val_acc: 0.3908\n",
            "Epoch 20/40\n",
            "1250/1250 [==============================] - 246s 197ms/step - loss: 1.6622 - acc: 0.4055 - val_loss: 1.6291 - val_acc: 0.4229\n",
            "Epoch 21/40\n",
            "1250/1250 [==============================] - 246s 197ms/step - loss: 1.6622 - acc: 0.4076 - val_loss: 1.7069 - val_acc: 0.3871\n",
            "Epoch 22/40\n",
            "1250/1250 [==============================] - 246s 196ms/step - loss: 1.6590 - acc: 0.4084 - val_loss: 1.6262 - val_acc: 0.4105\n",
            "Epoch 23/40\n",
            "1250/1250 [==============================] - 246s 197ms/step - loss: 1.6548 - acc: 0.4100 - val_loss: 1.6414 - val_acc: 0.4147\n",
            "Epoch 24/40\n",
            "1250/1250 [==============================] - 245s 196ms/step - loss: 1.6543 - acc: 0.4108 - val_loss: 1.6497 - val_acc: 0.4149\n",
            "Epoch 25/40\n",
            "1250/1250 [==============================] - 248s 198ms/step - loss: 1.6506 - acc: 0.4119 - val_loss: 1.5792 - val_acc: 0.4313\n",
            "Epoch 26/40\n",
            "1250/1250 [==============================] - 246s 197ms/step - loss: 1.6490 - acc: 0.4117 - val_loss: 1.8788 - val_acc: 0.3828\n",
            "Epoch 27/40\n",
            "1250/1250 [==============================] - 250s 200ms/step - loss: 1.6459 - acc: 0.4122 - val_loss: 1.6605 - val_acc: 0.4152\n",
            "Epoch 28/40\n",
            "1250/1250 [==============================] - 247s 198ms/step - loss: 1.6380 - acc: 0.4160 - val_loss: 1.6252 - val_acc: 0.4079\n",
            "Epoch 29/40\n",
            "1250/1250 [==============================] - 246s 197ms/step - loss: 1.6401 - acc: 0.4143 - val_loss: 1.5580 - val_acc: 0.4373\n",
            "Epoch 30/40\n",
            "1250/1250 [==============================] - 245s 196ms/step - loss: 1.6341 - acc: 0.4187 - val_loss: 1.7493 - val_acc: 0.4031\n",
            "Epoch 31/40\n",
            "1250/1250 [==============================] - 245s 196ms/step - loss: 1.6293 - acc: 0.4232 - val_loss: 1.7227 - val_acc: 0.3948\n",
            "Epoch 32/40\n",
            "1250/1250 [==============================] - 244s 195ms/step - loss: 1.6254 - acc: 0.4225 - val_loss: 1.7047 - val_acc: 0.3981\n",
            "Epoch 33/40\n",
            "1250/1250 [==============================] - 245s 196ms/step - loss: 1.6240 - acc: 0.4222 - val_loss: 1.6199 - val_acc: 0.4206\n",
            "Epoch 34/40\n",
            "1250/1250 [==============================] - 255s 204ms/step - loss: 1.6226 - acc: 0.4254 - val_loss: 1.5965 - val_acc: 0.4305\n",
            "Epoch 35/40\n",
            "1250/1250 [==============================] - 251s 201ms/step - loss: 1.6209 - acc: 0.4234 - val_loss: 1.7353 - val_acc: 0.3845\n",
            "Epoch 36/40\n",
            "1250/1250 [==============================] - 252s 201ms/step - loss: 1.6205 - acc: 0.4199 - val_loss: 1.5984 - val_acc: 0.4280\n",
            "Epoch 37/40\n",
            "1250/1250 [==============================] - 250s 200ms/step - loss: 1.6236 - acc: 0.4240 - val_loss: 1.6065 - val_acc: 0.4278\n",
            "Epoch 38/40\n",
            "1250/1250 [==============================] - 249s 199ms/step - loss: 1.6166 - acc: 0.4270 - val_loss: 1.6688 - val_acc: 0.3969\n",
            "Epoch 39/40\n",
            "1250/1250 [==============================] - 248s 198ms/step - loss: 1.6150 - acc: 0.4254 - val_loss: 1.6253 - val_acc: 0.4177\n",
            "Epoch 40/40\n",
            "1250/1250 [==============================] - 247s 198ms/step - loss: 1.6112 - acc: 0.4286 - val_loss: 1.6302 - val_acc: 0.4224\n"
          ],
          "name": "stdout"
        }
      ]
    },
    {
      "metadata": {
        "id": "82GeN9tbZeTW",
        "colab_type": "code",
        "colab": {
          "base_uri": "https://localhost:8080/",
          "height": 376
        },
        "outputId": "db1c2524-aca7-4d25-e913-93c04e175d10"
      },
      "cell_type": "code",
      "source": [
        "history_dict = history.history\n",
        "loss = history_dict['loss']\n",
        "val_loss = history_dict['val_loss']\n",
        "epochs_range = range(1, epochs+1)\n",
        "\n",
        "plt.plot(epochs_range, loss, 'bo', label='Training loss')\n",
        "plt.plot(epochs_range, val_loss, 'ro', label='Validation loss')\n",
        "plt.title('Training and Validation Loss')\n",
        "plt.xlabel('Epochs')\n",
        "plt.ylabel('Loss')\n",
        "plt.legend()\n",
        "plt.show()"
      ],
      "execution_count": 9,
      "outputs": [
        {
          "output_type": "display_data",
          "data": {
            "image/png": "[encoded data removed]",
            "text/plain": [
              "<Figure size 576x396 with 1 Axes>"
            ]
          },
          "metadata": {
            "tags": []
          }
        }
      ]
    },
    {
      "metadata": {
        "id": "9vxdiDbMbRVM",
        "colab_type": "code",
        "colab": {
          "base_uri": "https://localhost:8080/",
          "height": 376
        },
        "outputId": "185a4caf-9c8e-4de8-cbd1-5f6e48d4d6fc"
      },
      "cell_type": "code",
      "source": [
        "acc = history_dict['acc']\n",
        "val_acc = history_dict['val_acc']\n",
        "\n",
        "plt.plot(epochs_range, acc, 'bo', label='Training Accuracy')\n",
        "plt.plot(epochs_range, val_acc, 'ro', label='Validation Accuracy')\n",
        "plt.title('Training and Validation Loss')\n",
        "plt.xlabel('Epochs')\n",
        "plt.ylabel('Loss')\n",
        "plt.legend()\n",
        "plt.show()"
      ],
      "execution_count": 10,
      "outputs": [
        {
          "output_type": "display_data",
          "data": {
            "image/png": "[encoded data removed]",
            "text/plain": [
              "<Figure size 576x396 with 1 Axes>"
            ]
          },
          "metadata": {
            "tags": []
          }
        }
      ]
    },
    {
      "metadata": {
        "id": "5cc9mN51bYWM",
        "colab_type": "code",
        "colab": {
          "base_uri": "https://localhost:8080/",
          "height": 68
        },
        "outputId": "125812d7-ebbb-4b2b-8e19-5a2bfc92df02"
      },
      "cell_type": "code",
      "source": [
        "scores = model.evaluate(x_test, y_test, verbose=1)\n",
        "print('Loss:', scores[0])\n",
        "print('Accuracy:', scores[1])"
      ],
      "execution_count": 11,
      "outputs": [
        {
          "output_type": "stream",
          "text": [
            "10000/10000 [==============================] - 17s 2ms/step\n",
            "Loss: 1.6131126216888427\n",
            "Accuracy: 0.4167\n"
          ],
          "name": "stdout"
        }
      ]
    }
  ]
}