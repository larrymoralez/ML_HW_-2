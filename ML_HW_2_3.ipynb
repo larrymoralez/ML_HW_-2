{
  "nbformat": 4,
  "nbformat_minor": 0,
  "metadata": {
    "colab": {
      "name": "ML HW #2.3.ipynb",
      "version": "0.3.2",
      "provenance": [],
      "include_colab_link": true
    },
    "kernelspec": {
      "name": "python3",
      "display_name": "Python 3"
    }
  },
  "cells": [
    {
      "cell_type": "markdown",
      "metadata": {
        "id": "view-in-github",
        "colab_type": "text"
      },
      "source": [
        "<a href=\"https://colab.research.google.com/github/larrymoralez/ML_HW_-2/blob/master/ML_HW_2_3.ipynb\" target=\"_parent\"><img src=\"https://colab.research.google.com/assets/colab-badge.svg\" alt=\"Open In Colab\"/></a>"
      ]
    },
    {
      "metadata": {
        "id": "WB2MOX36BTBN",
        "colab_type": "code",
        "colab": {}
      },
      "cell_type": "code",
      "source": [
        "#Import libraries\n",
        "import numpy as np\n",
        "from matplotlib import pyplot\n",
        "import keras\n",
        "from keras.datasets import cifar10\n",
        "from keras.preprocessing.image import ImageDataGenerator\n",
        "from keras.models import Sequential\n",
        "from keras.layers import Dense, Dropout, Activation, Flatten\n",
        "from keras.layers import Conv2D, MaxPooling2D\n",
        "from sklearn.model_selection import train_test_split\n",
        "import matplotlib.pyplot as plt\n",
        "\n",
        "(x_train, y_train), (x_test, y_test) = cifar10.load_data()\n",
        "\n"
      ],
      "execution_count": 0,
      "outputs": []
    },
    {
      "metadata": {
        "id": "6o9sdnPXBZdH",
        "colab_type": "code",
        "colab": {}
      },
      "cell_type": "code",
      "source": [
        "#split data into training and test data. Be careful to only run once or it will split data over and over again.\n",
        "x_train, x_val, y_train, y_val = train_test_split(x_train, y_train, test_size=0.2, random_state=42)\n"
      ],
      "execution_count": 0,
      "outputs": []
    },
    {
      "metadata": {
        "id": "1kCX5qUQBZ86",
        "colab_type": "code",
        "colab": {}
      },
      "cell_type": "code",
      "source": [
        "#Set initial params\n",
        "batch_size = 32\n",
        "num_classes = 10\n",
        "epochs = 50\n",
        "RMS = keras.optimizers.rmsprop(lr=0.00001, decay=1e-6)"
      ],
      "execution_count": 0,
      "outputs": []
    },
    {
      "metadata": {
        "id": "DtWArztVBcWk",
        "colab_type": "code",
        "colab": {}
      },
      "cell_type": "code",
      "source": [
        "#Convert labels to categroical\n",
        "y_train = keras.utils.to_categorical(y_train, num_classes)\n",
        "y_val = keras.utils.to_categorical(y_val, num_classes)\n",
        "y_test = keras.utils.to_categorical(y_test, num_classes)"
      ],
      "execution_count": 0,
      "outputs": []
    },
    {
      "metadata": {
        "id": "jMIDxPB5BeqB",
        "colab_type": "code",
        "colab": {
          "base_uri": "https://localhost:8080/",
          "height": 748
        },
        "outputId": "b5b0390c-0b20-43c0-d750-08b2ea8a774f"
      },
      "cell_type": "code",
      "source": [
        "#Define model\n",
        "model = Sequential()\n",
        "model.add(Conv2D(32, (3, 3), padding='same', input_shape=x_train.shape[1:]))\n",
        "model.add(Activation('relu'))\n",
        "model.add(Conv2D(32, (3, 3)))\n",
        "model.add(Activation('relu'))\n",
        "model.add(MaxPooling2D(pool_size=(2, 2)))\n",
        "model.add(Dropout(0.25))\n",
        "\n",
        "model.add(Conv2D(64, (3, 3), padding='same'))\n",
        "model.add(Activation('relu'))\n",
        "model.add(Conv2D(64, (3, 3)))\n",
        "model.add(Activation('relu'))\n",
        "model.add(MaxPooling2D(pool_size=(2, 2)))\n",
        "model.add(Dropout(0.25))\n",
        "\n",
        "model.add(Flatten())\n",
        "model.add(Dense(512))\n",
        "model.add(Activation('relu'))\n",
        "model.add(Dropout(0.5))\n",
        "model.add(Dense(num_classes))\n",
        "model.add(Activation('softmax'))\n",
        "\n",
        "model.summary()"
      ],
      "execution_count": 34,
      "outputs": [
        {
          "output_type": "stream",
          "text": [
            "_________________________________________________________________\n",
            "Layer (type)                 Output Shape              Param #   \n",
            "=================================================================\n",
            "conv2d_13 (Conv2D)           (None, 32, 32, 32)        896       \n",
            "_________________________________________________________________\n",
            "activation_19 (Activation)   (None, 32, 32, 32)        0         \n",
            "_________________________________________________________________\n",
            "conv2d_14 (Conv2D)           (None, 30, 30, 32)        9248      \n",
            "_________________________________________________________________\n",
            "activation_20 (Activation)   (None, 30, 30, 32)        0         \n",
            "_________________________________________________________________\n",
            "max_pooling2d_7 (MaxPooling2 (None, 15, 15, 32)        0         \n",
            "_________________________________________________________________\n",
            "dropout_10 (Dropout)         (None, 15, 15, 32)        0         \n",
            "_________________________________________________________________\n",
            "conv2d_15 (Conv2D)           (None, 15, 15, 64)        18496     \n",
            "_________________________________________________________________\n",
            "activation_21 (Activation)   (None, 15, 15, 64)        0         \n",
            "_________________________________________________________________\n",
            "conv2d_16 (Conv2D)           (None, 13, 13, 64)        36928     \n",
            "_________________________________________________________________\n",
            "activation_22 (Activation)   (None, 13, 13, 64)        0         \n",
            "_________________________________________________________________\n",
            "max_pooling2d_8 (MaxPooling2 (None, 6, 6, 64)          0         \n",
            "_________________________________________________________________\n",
            "dropout_11 (Dropout)         (None, 6, 6, 64)          0         \n",
            "_________________________________________________________________\n",
            "flatten_4 (Flatten)          (None, 2304)              0         \n",
            "_________________________________________________________________\n",
            "dense_7 (Dense)              (None, 512)               1180160   \n",
            "_________________________________________________________________\n",
            "activation_23 (Activation)   (None, 512)               0         \n",
            "_________________________________________________________________\n",
            "dropout_12 (Dropout)         (None, 512)               0         \n",
            "_________________________________________________________________\n",
            "dense_8 (Dense)              (None, 10)                5130      \n",
            "_________________________________________________________________\n",
            "activation_24 (Activation)   (None, 10)                0         \n",
            "=================================================================\n",
            "Total params: 1,250,858\n",
            "Trainable params: 1,250,858\n",
            "Non-trainable params: 0\n",
            "_________________________________________________________________\n"
          ],
          "name": "stdout"
        }
      ]
    },
    {
      "metadata": {
        "id": "1ne3nMXyFLUQ",
        "colab_type": "code",
        "colab": {}
      },
      "cell_type": "code",
      "source": [
        "#Compile model\n",
        "history = model.compile(loss='categorical_crossentropy',\n",
        "              optimizer=RMS,\n",
        "              metrics=['accuracy'])"
      ],
      "execution_count": 0,
      "outputs": []
    },
    {
      "metadata": {
        "id": "eztZhQ-YFO7U",
        "colab_type": "code",
        "colab": {
          "base_uri": "https://localhost:8080/",
          "height": 1652
        },
        "outputId": "5d2f3780-3426-42f4-a04f-4f881c0c8856"
      },
      "cell_type": "code",
      "source": [
        "history = model.fit(x_train, y_train, batch_size = batch_size, epochs = epochs, validation_data=(x_val, y_val), shuffle = True)"
      ],
      "execution_count": 36,
      "outputs": [
        {
          "output_type": "stream",
          "text": [
            "Train on 40000 samples, validate on 10000 samples\n",
            "Epoch 1/50\n",
            "40000/40000 [==============================] - 731s 18ms/step - loss: 8.0806 - acc: 0.1253 - val_loss: 2.1704 - val_acc: 0.2082\n",
            "Epoch 2/50\n",
            "40000/40000 [==============================] - 727s 18ms/step - loss: 2.2758 - acc: 0.1862 - val_loss: 2.0299 - val_acc: 0.2830\n",
            "Epoch 3/50\n",
            "40000/40000 [==============================] - 745s 19ms/step - loss: 2.0645 - acc: 0.2445 - val_loss: 1.8838 - val_acc: 0.3393\n",
            "Epoch 4/50\n",
            "40000/40000 [==============================] - 735s 18ms/step - loss: 1.9536 - acc: 0.2891 - val_loss: 1.7910 - val_acc: 0.3667\n",
            "Epoch 5/50\n",
            "40000/40000 [==============================] - 724s 18ms/step - loss: 1.8748 - acc: 0.3173 - val_loss: 1.7101 - val_acc: 0.3943\n",
            "Epoch 6/50\n",
            "40000/40000 [==============================] - 724s 18ms/step - loss: 1.8075 - acc: 0.3372 - val_loss: 1.6607 - val_acc: 0.4088\n",
            "Epoch 7/50\n",
            "40000/40000 [==============================] - 733s 18ms/step - loss: 1.7553 - acc: 0.3590 - val_loss: 1.6086 - val_acc: 0.4249\n",
            "Epoch 8/50\n",
            "40000/40000 [==============================] - 711s 18ms/step - loss: 1.7134 - acc: 0.3747 - val_loss: 1.5741 - val_acc: 0.4382\n",
            "Epoch 9/50\n",
            "40000/40000 [==============================] - 711s 18ms/step - loss: 1.6666 - acc: 0.3940 - val_loss: 1.5338 - val_acc: 0.4491\n",
            "Epoch 10/50\n",
            "40000/40000 [==============================] - 720s 18ms/step - loss: 1.6374 - acc: 0.4044 - val_loss: 1.5031 - val_acc: 0.4610\n",
            "Epoch 11/50\n",
            "40000/40000 [==============================] - 731s 18ms/step - loss: 1.6021 - acc: 0.4136 - val_loss: 1.4842 - val_acc: 0.4680\n",
            "Epoch 12/50\n",
            "40000/40000 [==============================] - 725s 18ms/step - loss: 1.5742 - acc: 0.4293 - val_loss: 1.4555 - val_acc: 0.4788\n",
            "Epoch 13/50\n",
            "40000/40000 [==============================] - 728s 18ms/step - loss: 1.5504 - acc: 0.4350 - val_loss: 1.4360 - val_acc: 0.4862\n",
            "Epoch 14/50\n",
            "40000/40000 [==============================] - 725s 18ms/step - loss: 1.5275 - acc: 0.4474 - val_loss: 1.4178 - val_acc: 0.4942\n",
            "Epoch 15/50\n",
            "40000/40000 [==============================] - 720s 18ms/step - loss: 1.5069 - acc: 0.4544 - val_loss: 1.4099 - val_acc: 0.4904\n",
            "Epoch 16/50\n",
            "40000/40000 [==============================] - 722s 18ms/step - loss: 1.4822 - acc: 0.4633 - val_loss: 1.3934 - val_acc: 0.5018\n",
            "Epoch 17/50\n",
            "40000/40000 [==============================] - 724s 18ms/step - loss: 1.4622 - acc: 0.4701 - val_loss: 1.3805 - val_acc: 0.5051\n",
            "Epoch 18/50\n",
            "40000/40000 [==============================] - 720s 18ms/step - loss: 1.4542 - acc: 0.4752 - val_loss: 1.3707 - val_acc: 0.5097\n",
            "Epoch 19/50\n",
            "40000/40000 [==============================] - 720s 18ms/step - loss: 1.4342 - acc: 0.4849 - val_loss: 1.3558 - val_acc: 0.5161\n",
            "Epoch 20/50\n",
            "40000/40000 [==============================] - 719s 18ms/step - loss: 1.4105 - acc: 0.4927 - val_loss: 1.3474 - val_acc: 0.5160\n",
            "Epoch 21/50\n",
            "40000/40000 [==============================] - 728s 18ms/step - loss: 1.3977 - acc: 0.4984 - val_loss: 1.3170 - val_acc: 0.5300\n",
            "Epoch 22/50\n",
            "40000/40000 [==============================] - 726s 18ms/step - loss: 1.3911 - acc: 0.4993 - val_loss: 1.3119 - val_acc: 0.5345\n",
            "Epoch 23/50\n",
            "40000/40000 [==============================] - 722s 18ms/step - loss: 1.3719 - acc: 0.5085 - val_loss: 1.2898 - val_acc: 0.5446\n",
            "Epoch 24/50\n",
            "40000/40000 [==============================] - 720s 18ms/step - loss: 1.3536 - acc: 0.5171 - val_loss: 1.2815 - val_acc: 0.5466\n",
            "Epoch 25/50\n",
            "40000/40000 [==============================] - 716s 18ms/step - loss: 1.3425 - acc: 0.5230 - val_loss: 1.2620 - val_acc: 0.5561\n",
            "Epoch 26/50\n",
            "40000/40000 [==============================] - 719s 18ms/step - loss: 1.3225 - acc: 0.5278 - val_loss: 1.2508 - val_acc: 0.5550\n",
            "Epoch 27/50\n",
            "40000/40000 [==============================] - 605s 15ms/step - loss: 1.3180 - acc: 0.5309 - val_loss: 1.2559 - val_acc: 0.5546\n",
            "Epoch 28/50\n",
            "40000/40000 [==============================] - 467s 12ms/step - loss: 1.2984 - acc: 0.5381 - val_loss: 1.2392 - val_acc: 0.5619\n",
            "Epoch 29/50\n",
            "40000/40000 [==============================] - 471s 12ms/step - loss: 1.2922 - acc: 0.5390 - val_loss: 1.2632 - val_acc: 0.5497\n",
            "Epoch 30/50\n",
            "40000/40000 [==============================] - 475s 12ms/step - loss: 1.2836 - acc: 0.5431 - val_loss: 1.2174 - val_acc: 0.5703\n",
            "Epoch 31/50\n",
            "40000/40000 [==============================] - 474s 12ms/step - loss: 1.2696 - acc: 0.5499 - val_loss: 1.2020 - val_acc: 0.5735\n",
            "Epoch 32/50\n",
            "40000/40000 [==============================] - 475s 12ms/step - loss: 1.2644 - acc: 0.5523 - val_loss: 1.1972 - val_acc: 0.5744\n",
            "Epoch 33/50\n",
            "40000/40000 [==============================] - 473s 12ms/step - loss: 1.2527 - acc: 0.5551 - val_loss: 1.1749 - val_acc: 0.5850\n",
            "Epoch 34/50\n",
            "40000/40000 [==============================] - 474s 12ms/step - loss: 1.2398 - acc: 0.5611 - val_loss: 1.1734 - val_acc: 0.5891\n",
            "Epoch 35/50\n",
            "40000/40000 [==============================] - 474s 12ms/step - loss: 1.2348 - acc: 0.5657 - val_loss: 1.2048 - val_acc: 0.5743\n",
            "Epoch 36/50\n",
            "40000/40000 [==============================] - 472s 12ms/step - loss: 1.2262 - acc: 0.5690 - val_loss: 1.1729 - val_acc: 0.5846\n",
            "Epoch 37/50\n",
            "40000/40000 [==============================] - 472s 12ms/step - loss: 1.2161 - acc: 0.5716 - val_loss: 1.1556 - val_acc: 0.5895\n",
            "Epoch 38/50\n",
            "40000/40000 [==============================] - 472s 12ms/step - loss: 1.2101 - acc: 0.5710 - val_loss: 1.1399 - val_acc: 0.6025\n",
            "Epoch 39/50\n",
            "40000/40000 [==============================] - 469s 12ms/step - loss: 1.2012 - acc: 0.5763 - val_loss: 1.1216 - val_acc: 0.6071\n",
            "Epoch 40/50\n",
            "40000/40000 [==============================] - 469s 12ms/step - loss: 1.1961 - acc: 0.5771 - val_loss: 1.1316 - val_acc: 0.6038\n",
            "Epoch 41/50\n",
            "40000/40000 [==============================] - 468s 12ms/step - loss: 1.1791 - acc: 0.5830 - val_loss: 1.1295 - val_acc: 0.6012\n",
            "Epoch 42/50\n",
            "40000/40000 [==============================] - 469s 12ms/step - loss: 1.1779 - acc: 0.5856 - val_loss: 1.1289 - val_acc: 0.6005\n",
            "Epoch 43/50\n",
            "40000/40000 [==============================] - 472s 12ms/step - loss: 1.1709 - acc: 0.5858 - val_loss: 1.1130 - val_acc: 0.6089\n",
            "Epoch 44/50\n",
            "40000/40000 [==============================] - 468s 12ms/step - loss: 1.1643 - acc: 0.5871 - val_loss: 1.1044 - val_acc: 0.6127\n",
            "Epoch 45/50\n",
            "40000/40000 [==============================] - 467s 12ms/step - loss: 1.1603 - acc: 0.5918 - val_loss: 1.0960 - val_acc: 0.6157\n",
            "Epoch 46/50\n",
            "40000/40000 [==============================] - 474s 12ms/step - loss: 1.1510 - acc: 0.5948 - val_loss: 1.1085 - val_acc: 0.6099\n",
            "Epoch 47/50\n",
            "32896/40000 [=======================>......] - ETA: 1:17 - loss: 1.1483 - acc: 0.5959Buffered data was truncated after reaching the output size limit."
          ],
          "name": "stdout"
        }
      ]
    },
    {
      "metadata": {
        "id": "1HxQA__fFfPE",
        "colab_type": "code",
        "colab": {
          "base_uri": "https://localhost:8080/",
          "height": 34
        },
        "outputId": "0cd20838-f26f-4fa6-8329-45c180c666c5"
      },
      "cell_type": "code",
      "source": [
        "val_loss, val_acc = model.evaluate(x_val, y_val, verbose=1)"
      ],
      "execution_count": 40,
      "outputs": [
        {
          "output_type": "stream",
          "text": [
            "10000/10000 [==============================] - 16s 2ms/step\n"
          ],
          "name": "stdout"
        }
      ]
    },
    {
      "metadata": {
        "id": "CSDcW0_dhLt_",
        "colab_type": "code",
        "colab": {
          "base_uri": "https://localhost:8080/",
          "height": 376
        },
        "outputId": "e58fa007-3830-4c9f-838f-66e294215955"
      },
      "cell_type": "code",
      "source": [
        "history_dict = history.history\n",
        "loss = history_dict['loss']\n",
        "val_loss = history_dict['val_loss']\n",
        "epochs_range = range(1, epochs+1)\n",
        "\n",
        "plt.plot(epochs_range, loss, 'bo', label='Training loss')\n",
        "plt.plot(epochs_range, val_loss, 'ro', label='Validation loss')\n",
        "plt.title('Training and Validation Loss')\n",
        "plt.xlabel('Epochs')\n",
        "plt.ylabel('Loss')\n",
        "plt.legend()\n",
        "plt.show()"
      ],
      "execution_count": 38,
      "outputs": [
        {
          "output_type": "display_data",
          "data": {
            "image/png": "[encoded data removed]",
            "text/plain": [
              "<Figure size 576x396 with 1 Axes>"
            ]
          },
          "metadata": {
            "tags": []
          }
        }
      ]
    },
    {
      "metadata": {
        "id": "iRW2yZKZhMHt",
        "colab_type": "code",
        "colab": {
          "base_uri": "https://localhost:8080/",
          "height": 376
        },
        "outputId": "04663130-607c-489d-f1ab-0f7372dd4d76"
      },
      "cell_type": "code",
      "source": [
        "acc = history_dict['acc']\n",
        "val_acc = history_dict['val_acc']\n",
        "\n",
        "plt.plot(epochs_range, acc, 'bo', label='Training Accuracy')\n",
        "plt.plot(epochs_range, val_acc, 'ro', label='Validation Accuracy')\n",
        "plt.title('Training and Validation Loss')\n",
        "plt.xlabel('Epochs')\n",
        "plt.ylabel('Loss')\n",
        "plt.legend()\n",
        "plt.show()"
      ],
      "execution_count": 39,
      "outputs": [
        {
          "output_type": "display_data",
          "data": {
            "image/png": "[encoded data removed]",
            "text/plain": [
              "<Figure size 576x396 with 1 Axes>"
            ]
          },
          "metadata": {
            "tags": []
          }
        }
      ]
    }
  ]
}