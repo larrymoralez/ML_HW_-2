{
  "nbformat": 4,
  "nbformat_minor": 0,
  "metadata": {
    "colab": {
      "name": "ML HW #2.3.ipynb",
      "version": "0.3.2",
      "provenance": [],
      "collapsed_sections": [],
      "include_colab_link": true
    },
    "kernelspec": {
      "name": "python3",
      "display_name": "Python 3"
    }
  },
  "cells": [
    {
      "cell_type": "markdown",
      "metadata": {
        "id": "view-in-github",
        "colab_type": "text"
      },
      "source": [
        "<a href=\"https://colab.research.google.com/github/larrymoralez/ML_HW_-2/blob/master/ML_HW_2_3.ipynb\" target=\"_parent\"><img src=\"https://colab.research.google.com/assets/colab-badge.svg\" alt=\"Open In Colab\"/></a>"
      ]
    },
    {
      "metadata": {
        "id": "WB2MOX36BTBN",
        "colab_type": "code",
        "outputId": "f28a102f-18e6-4ae7-dea6-01748ca86623",
        "colab": {
          "base_uri": "https://localhost:8080/",
          "height": 34
        }
      },
      "cell_type": "code",
      "source": [
        "#Import libraries\n",
        "import numpy as np\n",
        "from matplotlib import pyplot\n",
        "import keras\n",
        "from keras.datasets import cifar10\n",
        "from keras.preprocessing.image import ImageDataGenerator\n",
        "from keras.models import Sequential\n",
        "from keras.layers import Dense, Dropout, Activation, Flatten\n",
        "from keras.layers import Conv2D, MaxPooling2D\n",
        "from sklearn.model_selection import train_test_split\n",
        "import matplotlib.pyplot as plt\n",
        "\n",
        "(x_train, y_train), (x_test, y_test) = cifar10.load_data()\n",
        "\n"
      ],
      "execution_count": 0,
      "outputs": [
        {
          "output_type": "stream",
          "text": [
            "Using TensorFlow backend.\n"
          ],
          "name": "stderr"
        }
      ]
    },
    {
      "metadata": {
        "id": "6o9sdnPXBZdH",
        "colab_type": "code",
        "colab": {}
      },
      "cell_type": "code",
      "source": [
        "#split data into training and test data. Be careful to only run once or it will split data over and over again.\n",
        "x_train, x_val, y_train, y_val = train_test_split(x_train, y_train, test_size=0.2, random_state=42)\n"
      ],
      "execution_count": 0,
      "outputs": []
    },
    {
      "metadata": {
        "id": "1kCX5qUQBZ86",
        "colab_type": "code",
        "outputId": "8daa18e1-0624-43be-ab7f-b047ccd64f60",
        "colab": {
          "base_uri": "https://localhost:8080/",
          "height": 68
        }
      },
      "cell_type": "code",
      "source": [
        "#Set initial params\n",
        "batch_size = 32\n",
        "num_classes = 10\n",
        "epochs = 100\n",
        "RMS = keras.optimizers.rmsprop(lr=0.0001, decay=1e-6)"
      ],
      "execution_count": 0,
      "outputs": [
        {
          "output_type": "stream",
          "text": [
            "WARNING:tensorflow:From /usr/local/lib/python3.6/dist-packages/tensorflow/python/framework/op_def_library.py:263: colocate_with (from tensorflow.python.framework.ops) is deprecated and will be removed in a future version.\n",
            "Instructions for updating:\n",
            "Colocations handled automatically by placer.\n"
          ],
          "name": "stdout"
        }
      ]
    },
    {
      "metadata": {
        "id": "DtWArztVBcWk",
        "colab_type": "code",
        "colab": {}
      },
      "cell_type": "code",
      "source": [
        "#Convert labels to categroical\n",
        "y_train = keras.utils.to_categorical(y_train, num_classes)\n",
        "y_val = keras.utils.to_categorical(y_val, num_classes)\n",
        "y_test = keras.utils.to_categorical(y_test, num_classes)"
      ],
      "execution_count": 0,
      "outputs": []
    },
    {
      "metadata": {
        "id": "jMIDxPB5BeqB",
        "colab_type": "code",
        "outputId": "4341292a-ba57-4ece-828b-a6ade4f34481",
        "colab": {
          "base_uri": "https://localhost:8080/",
          "height": 799
        }
      },
      "cell_type": "code",
      "source": [
        "#Define model\n",
        "model = Sequential()\n",
        "model.add(Conv2D(32, (3, 3), padding='same', input_shape=x_train.shape[1:]))\n",
        "model.add(Activation('relu'))\n",
        "model.add(Conv2D(32, (3, 3)))\n",
        "model.add(Activation('relu'))\n",
        "model.add(MaxPooling2D(pool_size=(2, 2)))\n",
        "model.add(Dropout(0.25))\n",
        "\n",
        "model.add(Conv2D(64, (3, 3), padding='same'))\n",
        "model.add(Activation('relu'))\n",
        "model.add(Conv2D(64, (3, 3)))\n",
        "model.add(Activation('relu'))\n",
        "model.add(MaxPooling2D(pool_size=(2, 2)))\n",
        "model.add(Dropout(0.25))\n",
        "\n",
        "model.add(Flatten())\n",
        "model.add(Dense(512))\n",
        "model.add(Activation('relu'))\n",
        "model.add(Dropout(0.5))\n",
        "model.add(Dense(num_classes))\n",
        "model.add(Activation('softmax'))\n",
        "\n",
        "model.summary()"
      ],
      "execution_count": 0,
      "outputs": [
        {
          "output_type": "stream",
          "text": [
            "WARNING:tensorflow:From /usr/local/lib/python3.6/dist-packages/keras/backend/tensorflow_backend.py:3445: calling dropout (from tensorflow.python.ops.nn_ops) with keep_prob is deprecated and will be removed in a future version.\n",
            "Instructions for updating:\n",
            "Please use `rate` instead of `keep_prob`. Rate should be set to `rate = 1 - keep_prob`.\n",
            "_________________________________________________________________\n",
            "Layer (type)                 Output Shape              Param #   \n",
            "=================================================================\n",
            "conv2d_1 (Conv2D)            (None, 32, 32, 32)        896       \n",
            "_________________________________________________________________\n",
            "activation_1 (Activation)    (None, 32, 32, 32)        0         \n",
            "_________________________________________________________________\n",
            "conv2d_2 (Conv2D)            (None, 30, 30, 32)        9248      \n",
            "_________________________________________________________________\n",
            "activation_2 (Activation)    (None, 30, 30, 32)        0         \n",
            "_________________________________________________________________\n",
            "max_pooling2d_1 (MaxPooling2 (None, 15, 15, 32)        0         \n",
            "_________________________________________________________________\n",
            "dropout_1 (Dropout)          (None, 15, 15, 32)        0         \n",
            "_________________________________________________________________\n",
            "conv2d_3 (Conv2D)            (None, 15, 15, 64)        18496     \n",
            "_________________________________________________________________\n",
            "activation_3 (Activation)    (None, 15, 15, 64)        0         \n",
            "_________________________________________________________________\n",
            "conv2d_4 (Conv2D)            (None, 13, 13, 64)        36928     \n",
            "_________________________________________________________________\n",
            "activation_4 (Activation)    (None, 13, 13, 64)        0         \n",
            "_________________________________________________________________\n",
            "max_pooling2d_2 (MaxPooling2 (None, 6, 6, 64)          0         \n",
            "_________________________________________________________________\n",
            "dropout_2 (Dropout)          (None, 6, 6, 64)          0         \n",
            "_________________________________________________________________\n",
            "flatten_1 (Flatten)          (None, 2304)              0         \n",
            "_________________________________________________________________\n",
            "dense_1 (Dense)              (None, 512)               1180160   \n",
            "_________________________________________________________________\n",
            "activation_5 (Activation)    (None, 512)               0         \n",
            "_________________________________________________________________\n",
            "dropout_3 (Dropout)          (None, 512)               0         \n",
            "_________________________________________________________________\n",
            "dense_2 (Dense)              (None, 10)                5130      \n",
            "_________________________________________________________________\n",
            "activation_6 (Activation)    (None, 10)                0         \n",
            "=================================================================\n",
            "Total params: 1,250,858\n",
            "Trainable params: 1,250,858\n",
            "Non-trainable params: 0\n",
            "_________________________________________________________________\n"
          ],
          "name": "stdout"
        }
      ]
    },
    {
      "metadata": {
        "id": "1ne3nMXyFLUQ",
        "colab_type": "code",
        "colab": {}
      },
      "cell_type": "code",
      "source": [
        "#Compile model\n",
        "model.compile(loss='categorical_crossentropy',\n",
        "              optimizer=RMS,\n",
        "              metrics=['accuracy'])"
      ],
      "execution_count": 0,
      "outputs": []
    },
    {
      "metadata": {
        "id": "eztZhQ-YFO7U",
        "colab_type": "code",
        "outputId": "2ce211e8-4ee5-446d-cfa9-d5368751833f",
        "colab": {
          "base_uri": "https://localhost:8080/",
          "height": 1683
        }
      },
      "cell_type": "code",
      "source": [
        "history = model.fit(x_train, y_train, batch_size = batch_size, epochs = epochs, validation_data=(x_val, y_val), shuffle = True)"
      ],
      "execution_count": 0,
      "outputs": [
        {
          "output_type": "stream",
          "text": [
            "WARNING:tensorflow:From /usr/local/lib/python3.6/dist-packages/tensorflow/python/ops/math_ops.py:3066: to_int32 (from tensorflow.python.ops.math_ops) is deprecated and will be removed in a future version.\n",
            "Instructions for updating:\n",
            "Use tf.cast instead.\n",
            "Train on 40000 samples, validate on 10000 samples\n",
            "Epoch 1/100\n",
            "40000/40000 [==============================] - 720s 18ms/step - loss: 6.5371 - acc: 0.2164 - val_loss: 1.6667 - val_acc: 0.4150\n",
            "Epoch 2/100\n",
            "40000/40000 [==============================] - 710s 18ms/step - loss: 1.6442 - acc: 0.4027 - val_loss: 1.4049 - val_acc: 0.5122\n",
            "Epoch 3/100\n",
            "40000/40000 [==============================] - 713s 18ms/step - loss: 1.4608 - acc: 0.4782 - val_loss: 1.3662 - val_acc: 0.5152\n",
            "Epoch 4/100\n",
            "40000/40000 [==============================] - 707s 18ms/step - loss: 1.3541 - acc: 0.5222 - val_loss: 1.1795 - val_acc: 0.5875\n",
            "Epoch 5/100\n",
            "40000/40000 [==============================] - 709s 18ms/step - loss: 1.2819 - acc: 0.5469 - val_loss: 1.1691 - val_acc: 0.5842\n",
            "Epoch 6/100\n",
            "40000/40000 [==============================] - 699s 17ms/step - loss: 1.2317 - acc: 0.5677 - val_loss: 1.1409 - val_acc: 0.6018\n",
            "Epoch 7/100\n",
            "40000/40000 [==============================] - 696s 17ms/step - loss: 1.1859 - acc: 0.5841 - val_loss: 1.0585 - val_acc: 0.6277\n",
            "Epoch 8/100\n",
            "40000/40000 [==============================] - 699s 17ms/step - loss: 1.1604 - acc: 0.5967 - val_loss: 1.0746 - val_acc: 0.6263\n",
            "Epoch 9/100\n",
            "40000/40000 [==============================] - 697s 17ms/step - loss: 1.1249 - acc: 0.6087 - val_loss: 1.0324 - val_acc: 0.6428\n",
            "Epoch 10/100\n",
            "40000/40000 [==============================] - 693s 17ms/step - loss: 1.0985 - acc: 0.6210 - val_loss: 0.9962 - val_acc: 0.6594\n",
            "Epoch 11/100\n",
            "40000/40000 [==============================] - 710s 18ms/step - loss: 1.0774 - acc: 0.6288 - val_loss: 0.9875 - val_acc: 0.6584\n",
            "Epoch 12/100\n",
            "40000/40000 [==============================] - 706s 18ms/step - loss: 1.0649 - acc: 0.6329 - val_loss: 0.9730 - val_acc: 0.6604\n",
            "Epoch 13/100\n",
            "40000/40000 [==============================] - 705s 18ms/step - loss: 1.0534 - acc: 0.6415 - val_loss: 1.0045 - val_acc: 0.6612\n",
            "Epoch 14/100\n",
            "40000/40000 [==============================] - 705s 18ms/step - loss: 1.0438 - acc: 0.6444 - val_loss: 0.9575 - val_acc: 0.6676\n",
            "Epoch 15/100\n",
            "40000/40000 [==============================] - 703s 18ms/step - loss: 1.0382 - acc: 0.6454 - val_loss: 0.9394 - val_acc: 0.6735\n",
            "Epoch 16/100\n",
            "40000/40000 [==============================] - 702s 18ms/step - loss: 1.0311 - acc: 0.6509 - val_loss: 1.0250 - val_acc: 0.6591\n",
            "Epoch 17/100\n",
            "40000/40000 [==============================] - 701s 18ms/step - loss: 1.0275 - acc: 0.6512 - val_loss: 0.9603 - val_acc: 0.6726\n",
            "Epoch 18/100\n",
            "40000/40000 [==============================] - 711s 18ms/step - loss: 1.0112 - acc: 0.6578 - val_loss: 0.9477 - val_acc: 0.6776\n",
            "Epoch 19/100\n",
            "40000/40000 [==============================] - 713s 18ms/step - loss: 1.0194 - acc: 0.6569 - val_loss: 0.9195 - val_acc: 0.6836\n",
            "Epoch 20/100\n",
            "40000/40000 [==============================] - 721s 18ms/step - loss: 1.0014 - acc: 0.6630 - val_loss: 0.9808 - val_acc: 0.6666\n",
            "Epoch 21/100\n",
            "40000/40000 [==============================] - 721s 18ms/step - loss: 1.0056 - acc: 0.6638 - val_loss: 0.9800 - val_acc: 0.6797\n",
            "Epoch 22/100\n",
            "40000/40000 [==============================] - 733s 18ms/step - loss: 0.9985 - acc: 0.6635 - val_loss: 0.9318 - val_acc: 0.6959\n",
            "Epoch 23/100\n",
            "40000/40000 [==============================] - 723s 18ms/step - loss: 0.9941 - acc: 0.6674 - val_loss: 0.9925 - val_acc: 0.6855\n",
            "Epoch 24/100\n",
            "40000/40000 [==============================] - 720s 18ms/step - loss: 0.9872 - acc: 0.6688 - val_loss: 0.9599 - val_acc: 0.6840\n",
            "Epoch 25/100\n",
            "40000/40000 [==============================] - 717s 18ms/step - loss: 0.9915 - acc: 0.6697 - val_loss: 0.9281 - val_acc: 0.6909\n",
            "Epoch 26/100\n",
            "40000/40000 [==============================] - 722s 18ms/step - loss: 0.9791 - acc: 0.6729 - val_loss: 0.9532 - val_acc: 0.6874\n",
            "Epoch 27/100\n",
            "40000/40000 [==============================] - 718s 18ms/step - loss: 0.9792 - acc: 0.6715 - val_loss: 0.9337 - val_acc: 0.6944\n",
            "Epoch 28/100\n",
            "40000/40000 [==============================] - 720s 18ms/step - loss: 0.9778 - acc: 0.6771 - val_loss: 0.8871 - val_acc: 0.7069\n",
            "Epoch 29/100\n",
            "40000/40000 [==============================] - 715s 18ms/step - loss: 0.9736 - acc: 0.6777 - val_loss: 0.8964 - val_acc: 0.6970\n",
            "Epoch 30/100\n",
            "40000/40000 [==============================] - 718s 18ms/step - loss: 0.9701 - acc: 0.6784 - val_loss: 0.9129 - val_acc: 0.6907\n",
            "Epoch 31/100\n",
            "40000/40000 [==============================] - 716s 18ms/step - loss: 0.9756 - acc: 0.6801 - val_loss: 0.9537 - val_acc: 0.6941\n",
            "Epoch 32/100\n",
            "40000/40000 [==============================] - 717s 18ms/step - loss: 0.9657 - acc: 0.6790 - val_loss: 1.0052 - val_acc: 0.6999\n",
            "Epoch 33/100\n",
            "40000/40000 [==============================] - 718s 18ms/step - loss: 0.9633 - acc: 0.6817 - val_loss: 0.8853 - val_acc: 0.7120\n",
            "Epoch 34/100\n",
            "40000/40000 [==============================] - 718s 18ms/step - loss: 0.9554 - acc: 0.6863 - val_loss: 0.8867 - val_acc: 0.7048\n",
            "Epoch 35/100\n",
            "40000/40000 [==============================] - 715s 18ms/step - loss: 0.9631 - acc: 0.6803 - val_loss: 0.9600 - val_acc: 0.7014\n",
            "Epoch 36/100\n",
            "40000/40000 [==============================] - 713s 18ms/step - loss: 0.9544 - acc: 0.6870 - val_loss: 0.8786 - val_acc: 0.7075\n",
            "Epoch 37/100\n",
            "40000/40000 [==============================] - 715s 18ms/step - loss: 0.9489 - acc: 0.6867 - val_loss: 0.8864 - val_acc: 0.7087\n",
            "Epoch 38/100\n",
            "40000/40000 [==============================] - 721s 18ms/step - loss: 0.9537 - acc: 0.6870 - val_loss: 0.8922 - val_acc: 0.7137\n",
            "Epoch 39/100\n",
            "40000/40000 [==============================] - 715s 18ms/step - loss: 0.9481 - acc: 0.6905 - val_loss: 0.8969 - val_acc: 0.7085\n",
            "Epoch 40/100\n",
            "40000/40000 [==============================] - 717s 18ms/step - loss: 0.9532 - acc: 0.6854 - val_loss: 0.8767 - val_acc: 0.7092\n",
            "Epoch 41/100\n",
            "40000/40000 [==============================] - 732s 18ms/step - loss: 0.9449 - acc: 0.6912 - val_loss: 0.9702 - val_acc: 0.6980\n",
            "Epoch 42/100\n",
            "40000/40000 [==============================] - 770s 19ms/step - loss: 0.9375 - acc: 0.6897 - val_loss: 0.8913 - val_acc: 0.7081\n",
            "Epoch 43/100\n",
            "40000/40000 [==============================] - 780s 19ms/step - loss: 0.9460 - acc: 0.6902 - val_loss: 0.9397 - val_acc: 0.6975\n",
            "Epoch 44/100\n",
            "40000/40000 [==============================] - 785s 20ms/step - loss: 0.9468 - acc: 0.6894 - val_loss: 0.8841 - val_acc: 0.7128\n",
            "Epoch 45/100\n",
            "40000/40000 [==============================] - 809s 20ms/step - loss: 0.9480 - acc: 0.6895 - val_loss: 0.9167 - val_acc: 0.6978\n",
            "Epoch 46/100\n",
            "40000/40000 [==============================] - 806s 20ms/step - loss: 0.9544 - acc: 0.6898 - val_loss: 0.8929 - val_acc: 0.7079\n",
            "Epoch 47/100\n",
            "32448/40000 [=======================>......] - ETA: 2:20 - loss: 0.9457 - acc: 0.6891Buffered data was truncated after reaching the output size limit."
          ],
          "name": "stdout"
        }
      ]
    },
    {
      "metadata": {
        "id": "CSDcW0_dhLt_",
        "colab_type": "code",
        "outputId": "fde283cd-de19-4c15-ea23-9b0042a8a491",
        "colab": {
          "base_uri": "https://localhost:8080/",
          "height": 231
        }
      },
      "cell_type": "code",
      "source": [
        "history_dict = history.history\n",
        "loss = history_dict['loss']\n",
        "val_loss = history_dict['val_loss']\n",
        "epochs_range = range(1, epochs+1)\n",
        "\n",
        "plt.plot(epochs_range, loss, 'bo', label='Training loss')\n",
        "plt.plot(epochs_range, val_loss, 'ro', label='Validation loss')\n",
        "plt.title('Training and Validation Loss')\n",
        "plt.xlabel('Epochs')\n",
        "plt.ylabel('Loss')\n",
        "plt.legend()\n",
        "plt.show()"
      ],
      "execution_count": 0,
      "outputs": [
        {
          "output_type": "error",
          "ename": "NameError",
          "evalue": "ignored",
          "traceback": [
            "\u001b[0;31m---------------------------------------------------------------------------\u001b[0m",
            "\u001b[0;31mNameError\u001b[0m                                 Traceback (most recent call last)",
            "\u001b[0;32m<ipython-input-1-846e6e1ab28d>\u001b[0m in \u001b[0;36m<module>\u001b[0;34m()\u001b[0m\n\u001b[0;32m----> 1\u001b[0;31m \u001b[0mhistory_dict\u001b[0m \u001b[0;34m=\u001b[0m \u001b[0mhistory\u001b[0m\u001b[0;34m.\u001b[0m\u001b[0mhistory\u001b[0m\u001b[0;34m\u001b[0m\u001b[0;34m\u001b[0m\u001b[0m\n\u001b[0m\u001b[1;32m      2\u001b[0m \u001b[0mloss\u001b[0m \u001b[0;34m=\u001b[0m \u001b[0mhistory_dict\u001b[0m\u001b[0;34m[\u001b[0m\u001b[0;34m'loss'\u001b[0m\u001b[0;34m]\u001b[0m\u001b[0;34m\u001b[0m\u001b[0;34m\u001b[0m\u001b[0m\n\u001b[1;32m      3\u001b[0m \u001b[0mval_loss\u001b[0m \u001b[0;34m=\u001b[0m \u001b[0mhistory_dict\u001b[0m\u001b[0;34m[\u001b[0m\u001b[0;34m'val_loss'\u001b[0m\u001b[0;34m]\u001b[0m\u001b[0;34m\u001b[0m\u001b[0;34m\u001b[0m\u001b[0m\n\u001b[1;32m      4\u001b[0m \u001b[0mepochs_range\u001b[0m \u001b[0;34m=\u001b[0m \u001b[0mrange\u001b[0m\u001b[0;34m(\u001b[0m\u001b[0;36m1\u001b[0m\u001b[0;34m,\u001b[0m \u001b[0mepochs\u001b[0m\u001b[0;34m+\u001b[0m\u001b[0;36m1\u001b[0m\u001b[0;34m)\u001b[0m\u001b[0;34m\u001b[0m\u001b[0;34m\u001b[0m\u001b[0m\n\u001b[1;32m      5\u001b[0m \u001b[0;34m\u001b[0m\u001b[0m\n",
            "\u001b[0;31mNameError\u001b[0m: name 'history' is not defined"
          ]
        }
      ]
    },
    {
      "metadata": {
        "id": "iRW2yZKZhMHt",
        "colab_type": "code",
        "colab": {}
      },
      "cell_type": "code",
      "source": [
        "acc = history_dict['acc']\n",
        "val_acc = history_dict['val_acc']\n",
        "\n",
        "plt.plot(epochs_range, acc, 'bo', label='Training Accuracy')\n",
        "plt.plot(epochs_range, val_acc, 'ro', label='Validation Accuracy')\n",
        "plt.title('Training and Validation Loss')\n",
        "plt.xlabel('Epochs')\n",
        "plt.ylabel('Loss')\n",
        "plt.legend()\n",
        "plt.show()"
      ],
      "execution_count": 0,
      "outputs": []
    }
  ]
}